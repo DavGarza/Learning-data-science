{
 "cells": [
  {
   "cell_type": "markdown",
   "metadata": {},
   "source": [
    "# Linear Algebra with python\n",
    "\n",
    "*The branch of mathematics that deals with the theory of systems of linear equations, matrices, vector spaces, determinants, and linear transformations.*"
   ]
  },
  {
   "cell_type": "code",
   "execution_count": 1,
   "metadata": {},
   "outputs": [],
   "source": [
    "#Importing necesary libraries\n",
    "import numpy as np\n",
    "import matplotlib.pyplot as plt"
   ]
  },
  {
   "cell_type": "markdown",
   "metadata": {},
   "source": [
    "## I. Basic Concepts"
   ]
  },
  {
   "cell_type": "code",
   "execution_count": 2,
   "metadata": {},
   "outputs": [
    {
     "data": {
      "image/png": "[encoded data removed]",
      "text/plain": [
       "<Figure size 432x288 with 1 Axes>"
      ]
     },
     "metadata": {
      "needs_background": "light"
     },
     "output_type": "display_data"
    }
   ],
   "source": [
    "##Scalar: Represent a numerical scale in which there is only 1 value for representing the scale   \n",
    "scalar = [15]\n",
    "\n",
    "##Vector: Represent a numerical scale in which it can not be represented by a single number\n",
    "vector = [11, 96, 35, 2]\n",
    "\n",
    "##Matrix: Is a numerical scale representation in 2 dimensions, such as a table\n",
    "matrix = [[10,25,63,45], [33,12,19,74], [55,65,17,23]]\n",
    "\n",
    "##Tensor: is an algebraic object that describes a multilinear relationship between sets of algebraic objects related to a vector space.\n",
    "tensor = [[[43,92,32],[87,45,26]],[[99,32,45],[22,29,19]],[[66,72,35],[88,29,16]]]\n",
    "\n",
    "scalar = np.array(scalar)\n",
    "vector = np.array(vector)\n",
    "matrix = np.array(matrix)\n",
    "tensor = np.array(tensor)\n",
    "\n",
    "#drawing with the tensors\n",
    "plt.imshow(tensor,interpolation=\"nearest\")\n",
    "plt.show()\n",
    "\n"
   ]
  },
  {
   "cell_type": "markdown",
   "metadata": {},
   "source": [
    "## II. Basic Operations"
   ]
  },
  {
   "cell_type": "markdown",
   "metadata": {},
   "source": [
    "### Dimensions of the magnitudes"
   ]
  },
  {
   "cell_type": "code",
   "execution_count": 9,
   "metadata": {},
   "outputs": [
    {
     "name": "stdout",
     "output_type": "stream",
     "text": [
      "The shape of the scalar is (1,)\n",
      "The shape of the vector is (4,)\n",
      "The shape of the matrix is (3, 4)\n",
      "The shape of the tensor is (3, 2, 3)\n"
     ]
    }
   ],
   "source": [
    "## Getting the shape of the differents scalars, vectors, matrix and tensors\n",
    "\n",
    "print(\"The shape of the scalar is\", scalar.shape)\n",
    "print(\"The shape of the vector is\", vector.shape)\n",
    "print(\"The shape of the matrix is\", matrix.shape)\n",
    "print(\"The shape of the tensor is\", tensor.shape)"
   ]
  },
  {
   "cell_type": "code",
   "execution_count": 10,
   "metadata": {},
   "outputs": [
    {
     "name": "stdout",
     "output_type": "stream",
     "text": [
      "The amount of numbers in the scalar is 1\n",
      "The amount of numbers in the vector is 4\n",
      "The amount of numbers in the matrix is 12\n",
      "The amount of numbers in the tensor is 18\n"
     ]
    }
   ],
   "source": [
    "## Size is the function of the multiplication of the rows and columns\n",
    "\n",
    "print(\"The amount of numbers in the scalar is\", scalar.size)\n",
    "print(\"The amount of numbers in the vector is\", vector.size)\n",
    "print(\"The amount of numbers in the matrix is\", matrix.size)\n",
    "print(\"The amount of numbers in the tensor is\", tensor.size)"
   ]
  },
  {
   "cell_type": "markdown",
   "metadata": {},
   "source": [
    "### Transpose\n",
    "\n",
    "Definition: Is an operator which flips a matrix over its diagonal; that is, it switches the row and column indices of the matrix A by producing another matrix, often denoted by **A<sup>T</sup>**"
   ]
  },
  {
   "cell_type": "code",
   "execution_count": 11,
   "metadata": {},
   "outputs": [
    {
     "name": "stdout",
     "output_type": "stream",
     "text": [
      "The matrix is [[10 25 63 45]\n",
      " [33 12 19 74]\n",
      " [55 65 17 23]]\n",
      "The matrix transpose is [[10 33 55]\n",
      " [25 12 65]\n",
      " [63 19 17]\n",
      " [45 74 23]]\n"
     ]
    }
   ],
   "source": [
    "## Showing the differences bewteen matrix and transpose matrix\n",
    "\n",
    "print(\"The matrix is\",matrix)\n",
    "print(\"The matrix transpose is\",matrix.T) "
   ]
  },
  {
   "cell_type": "code",
   "execution_count": 9,
   "metadata": {},
   "outputs": [
    {
     "name": "stdout",
     "output_type": "stream",
     "text": [
      "Sum of matrix 1 and 2 [[14 11]\n",
      " [ 8  7]]\n",
      "Sum of matrix 1 and matrix 1 transpose [[10  9]\n",
      " [ 9 12]]\n"
     ]
    }
   ],
   "source": [
    "## Sum of matrix\n",
    "\n",
    "matrix = [[5,7],[2,6]]\n",
    "matrix = np.array(matrix)\n",
    "\n",
    "matrix2 = [[9,4],[6,1]]\n",
    "matrix2 = np.array(matrix2)\n",
    "\n",
    "##Sum of matrix 1 and 2\n",
    "matrixsum = matrix + matrix2\n",
    "print(\"Sum of matrix 1 and 2\",matrixsum) \n",
    "\n",
    "##Sum of matrix 1 and the matrix 1 transpose\n",
    "matrixsum2 = matrix + matrix.T\n",
    "print(\"Sum of matrix 1 and matrix 1 transpose\",matrixsum2)"
   ]
  },
  {
   "cell_type": "code",
   "execution_count": 11,
   "metadata": {},
   "outputs": [
    {
     "name": "stdout",
     "output_type": "stream",
     "text": [
      "[[ 4  6]\n",
      " [ 8 10]]\n"
     ]
    }
   ],
   "source": [
    "## Sum of matrix and scalar\n",
    "\n",
    "matrix = [[2,4],[6,8]]\n",
    "matrix = np.array(matrix)\n",
    "\n",
    "scalar = [2]\n",
    "scalar = np.array(scalar)\n",
    "\n",
    "matrix_scalar_sum = matrix + scalar\n",
    "print(matrix_scalar_sum)"
   ]
  },
  {
   "cell_type": "markdown",
   "metadata": {},
   "source": [
    "### Matrix and Vectors sum (broadcasting)"
   ]
  },
  {
   "cell_type": "markdown",
   "metadata": {},
   "source": [
    "Broadcasting is extending the matrix of least size, to make it fit the bigger one"
   ]
  },
  {
   "cell_type": "code",
   "execution_count": 13,
   "metadata": {},
   "outputs": [
    {
     "name": "stdout",
     "output_type": "stream",
     "text": [
      "[[ 4  6]\n",
      " [ 8 10]]\n"
     ]
    }
   ],
   "source": [
    "## Broadcasting vector into matrix\n",
    "\n",
    "matrix = [[2,4],[6,8]]\n",
    "matrix = np.array(matrix)\n",
    "\n",
    "vector = [2,2]\n",
    "vector = np.array(vector)\n",
    "\n",
    "matrix_vector_sum = matrix + vector\n",
    "print(matrix_vector_sum)"
   ]
  },
  {
   "cell_type": "markdown",
   "metadata": {},
   "source": [
    "## III. Matrix Operations"
   ]
  },
  {
   "cell_type": "markdown",
   "metadata": {},
   "source": [
    "### Inner Product and the difference between multiplication\n",
    " \n",
    "It is a way to multiply vectors together, with the result of this multiplication being a scalar."
   ]
  },
  {
   "cell_type": "code",
   "execution_count": 4,
   "metadata": {},
   "outputs": [
    {
     "name": "stdout",
     "output_type": "stream",
     "text": [
      "[[ 4  8]\n",
      " [12 16]]\n",
      "[12 28]\n"
     ]
    }
   ],
   "source": [
    "vector = np.array([2,2])\n",
    "matrix = np.array([[2,4],[6,8]])\n",
    "\n",
    "## This is the way to multiply a matrix times a vector and the result you get is a matrix the same size as the one from the multiplication\n",
    "mult = matrix * vector\n",
    "print(mult)\n",
    "\n",
    "## In this process, it is applied a matrix and a vector, and the result is vector\n",
    "int_prod = matrix.dot(vector)\n",
    "print(int_prod)"
   ]
  },
  {
   "cell_type": "markdown",
   "metadata": {},
   "source": [
    "## IV. Lineal Equations Systems"
   ]
  },
  {
   "cell_type": "markdown",
   "metadata": {},
   "source": [
    "## V. Norms"
   ]
  },
  {
   "cell_type": "markdown",
   "metadata": {},
   "source": [
    "## VI. Matrix and Spacial Vectors"
   ]
  },
  {
   "cell_type": "markdown",
   "metadata": {},
   "source": [
    "## VII. Others Functions"
   ]
  }
 ],
 "metadata": {
  "kernelspec": {
   "display_name": "Python 3.8.10 64-bit",
   "language": "python",
   "name": "python3"
  },
  "language_info": {
   "codemirror_mode": {
    "name": "ipython",
    "version": 3
   },
   "file_extension": ".py",
   "mimetype": "text/x-python",
   "name": "python",
   "nbconvert_exporter": "python",
   "pygments_lexer": "ipython3",
   "version": "3.8.10"
  },
  "orig_nbformat": 4,
  "vscode": {
   "interpreter": {
    "hash": "31f2aee4e71d21fbe5cf8b01ff0e069b9275f58929596ceb00d14d90e3e16cd6"
   }
  }
 },
 "nbformat": 4,
 "nbformat_minor": 2
}
