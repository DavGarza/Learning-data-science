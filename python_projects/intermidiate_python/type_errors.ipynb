{
 "cells": [
  {
   "cell_type": "markdown",
   "metadata": {},
   "source": [
    "# Type of error in python, how to handle them"
   ]
  },
  {
   "cell_type": "code",
   "execution_count": null,
   "metadata": {},
   "outputs": [],
   "source": [
    "def x(string):\n",
    "    string == string[::-1]\n",
    "\n",
    "print(x(1))"
   ]
  },
  {
   "cell_type": "markdown",
   "metadata": {},
   "source": [
    "The error above happens because the program is expecting a string  \n",
    "The function we can apply is **try**  \n",
    "\n",
    "The try and except block in Python is used to catch and handle exceptions. Python executes code following the try statement as a “normal” part of the program. The code that follows the except statement **is the program’s response** to any exceptions in the preceding try clause.  \n",
    "\n",
    "reference: https://realpython.com/python-exceptions/#:~:text=except%20is%20used%20to%20catch,encountered%20in%20the%20try%20clause. "
   ]
  },
  {
   "cell_type": "code",
   "execution_count": null,
   "metadata": {},
   "outputs": [],
   "source": [
    "def x(string):\n",
    "    string == string[::-1]\n",
    "\n",
    "# The try part is the code where you expect everything noraml and/or correct\n",
    "try:\n",
    "    print(x(1))\n",
    "# The except part is the code where you excepct something wrong\n",
    "except TypeError:\n",
    "    print(\"You have to enter words, not numbers, try again\")\n"
   ]
  },
  {
   "cell_type": "markdown",
   "metadata": {},
   "source": [
    "The next function is called **raise**  \n",
    "\n",
    "We can use raise to throw an exception **if a certain condition occurs.**  \n",
    "reference: https://realpython.com/python-exceptions/#:~:text=except%20is%20used%20to%20catch,encountered%20in%20the%20try%20clause.\n",
    "\n",
    "Example 1"
   ]
  },
  {
   "cell_type": "code",
   "execution_count": null,
   "metadata": {},
   "outputs": [],
   "source": [
    "a = 5\n",
    "\n",
    "if a % 2 != 0:\n",
    "    raise Exception(\"The number should´t be an odd integer\")"
   ]
  },
  {
   "cell_type": "markdown",
   "metadata": {},
   "source": [
    "Example 2"
   ]
  },
  {
   "cell_type": "code",
   "execution_count": null,
   "metadata": {},
   "outputs": [],
   "source": [
    "def x(string):\n",
    "    try:\n",
    "        if len(string) == 0:\n",
    "            # Throws an exception when a condition (string == 0) is met\n",
    "            raise ValueError(\"You should´t leave without input\")\n",
    "        return string == string [::-1]\n",
    "    except ValueError as ve:\n",
    "        print(ve)\n",
    "        return False\n",
    "try:\n",
    "    # Code if everything goes normal\n",
    "    print(x(\"\"))\n",
    "# Code if something goes wrong (specifically if a TypeError)\n",
    "except TypeError:\n",
    "    print(\"You have to enter words\")"
   ]
  },
  {
   "cell_type": "markdown",
   "metadata": {},
   "source": [
    "The next function is **assert**\n",
    "\n",
    "This function works similar to raise, raises an exception when meeting a certaing condition, the difference is that this function work with booleans (True, False)"
   ]
  },
  {
   "cell_type": "code",
   "execution_count": 56,
   "metadata": {},
   "outputs": [
    {
     "ename": "AssertionError",
     "evalue": "This number isn´t supposed to be greater than 10",
     "output_type": "error",
     "traceback": [
      "\u001b[0;31m---------------------------------------------------------------------------\u001b[0m",
      "\u001b[0;31mAssertionError\u001b[0m                            Traceback (most recent call last)",
      "\u001b[1;32m/home/david_gza/Archivos/data_science/git/python_projects/intermidiate_python/type_errors.ipynb Cell 10'\u001b[0m in \u001b[0;36m<cell line: 2>\u001b[0;34m()\u001b[0m\n\u001b[1;32m      <a href='vscode-notebook-cell://wsl%2Bubuntu/home/david_gza/Archivos/data_science/git/python_projects/intermidiate_python/type_errors.ipynb#ch0000017vscode-remote?line=0'>1</a>\u001b[0m x \u001b[39m=\u001b[39m \u001b[39m10\u001b[39m\n\u001b[0;32m----> <a href='vscode-notebook-cell://wsl%2Bubuntu/home/david_gza/Archivos/data_science/git/python_projects/intermidiate_python/type_errors.ipynb#ch0000017vscode-remote?line=1'>2</a>\u001b[0m \u001b[39massert\u001b[39;00m(x \u001b[39m<\u001b[39m \u001b[39m10\u001b[39m), \u001b[39m\"\u001b[39m\u001b[39mThis number isn´t supposed to be greater than 10\u001b[39m\u001b[39m\"\u001b[39m\n",
      "\u001b[0;31mAssertionError\u001b[0m: This number isn´t supposed to be greater than 10"
     ]
    }
   ],
   "source": [
    "x = 10\n",
    "assert(x < 10), \"This number isn´t supposed to be greater than 10\"\n",
    "\n",
    "# if assert == True, x stored, if assert == False, raises an exception"
   ]
  }
 ],
 "metadata": {
  "interpreter": {
   "hash": "15208e11845542cfb28df44cf6511d0c625a5824a77b490c800770b6de9dd612"
  },
  "kernelspec": {
   "display_name": "Python 3.8.10 ('venv': venv)",
   "language": "python",
   "name": "python3"
  },
  "language_info": {
   "codemirror_mode": {
    "name": "ipython",
    "version": 3
   },
   "file_extension": ".py",
   "mimetype": "text/x-python",
   "name": "python",
   "nbconvert_exporter": "python",
   "pygments_lexer": "ipython3",
   "version": "3.8.10"
  },
  "orig_nbformat": 4
 },
 "nbformat": 4,
 "nbformat_minor": 2
}
