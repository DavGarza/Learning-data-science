{
 "cells": [
  {
   "cell_type": "markdown",
   "metadata": {},
   "source": [
    "# Managing files with python"
   ]
  },
  {
   "cell_type": "markdown",
   "metadata": {},
   "source": [
    "In here, we explore how to manage files, read, write, and more. But only plain text files like \n",
    "* txt\n",
    "* csv\n",
    "* py\n",
    "* js"
   ]
  },
  {
   "cell_type": "markdown",
   "metadata": {},
   "source": [
    "The structure of the files managing is"
   ]
  },
  {
   "cell_type": "code",
   "execution_count": null,
   "metadata": {},
   "outputs": [],
   "source": [
    "with open(\"./route/of/the/file.txt\", \"opening mode\") as f:"
   ]
  },
  {
   "cell_type": "markdown",
   "metadata": {},
   "source": [
    "**1.** the first argument \"with\", is to enable a protocol and don´t let the file to crash  \n",
    "**2.** The second one is the function to open the file  \n",
    "**3.** Next inside the parenthesis, it goes 2 parameters  \n",
    "   3.1. Route of the file  \n",
    "   3.2. The opening mode  \n",
    "**4.** And last, how the whole function will recieve it´s name"
   ]
  },
  {
   "cell_type": "markdown",
   "metadata": {},
   "source": [
    "### Opening modes\n",
    "\n",
    "The opening modes will depend on what you want to do with the file.  \n",
    "\n",
    "1. R = Reading mode. You use this type when you only want to use the data inside the file, and not actually change it\n",
    "2. W = Writing mode. You overwrite the file\n",
    "3. A = Append mode. The add to file"
   ]
  }
 ],
 "metadata": {
  "interpreter": {
   "hash": "15208e11845542cfb28df44cf6511d0c625a5824a77b490c800770b6de9dd612"
  },
  "kernelspec": {
   "display_name": "Python 3.8.10 ('venv': venv)",
   "language": "python",
   "name": "python3"
  },
  "language_info": {
   "name": "python",
   "version": "3.8.10"
  },
  "orig_nbformat": 4
 },
 "nbformat": 4,
 "nbformat_minor": 2
}
