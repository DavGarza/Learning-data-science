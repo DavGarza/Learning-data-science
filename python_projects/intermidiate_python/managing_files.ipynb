{
 "cells": [
  {
   "cell_type": "markdown",
   "metadata": {},
   "source": [
    "# Managing files with python"
   ]
  },
  {
   "cell_type": "markdown",
   "metadata": {},
   "source": [
    "In here, we explore how to manage files, read, write, and more. But only plain text files like \n",
    "* txt\n",
    "* csv\n",
    "* py\n",
    "* js"
   ]
  },
  {
   "cell_type": "markdown",
   "metadata": {},
   "source": [
    "The structure of the files managing is"
   ]
  },
  {
   "cell_type": "code",
   "execution_count": null,
   "metadata": {},
   "outputs": [],
   "source": [
    "with open(\"./route/of/the/file.txt\", \"opening mode\") as f:"
   ]
  },
  {
   "cell_type": "markdown",
   "metadata": {},
   "source": [
    "**1.** the first argument \"with\", is to enable a protocol and don´t let the file to crash  \n",
    "**2.** The second one is the function to open the file  \n",
    "**3.** Next inside the parenthesis, it goes 2 parameters  \n",
    "   3.1. Route of the file  \n",
    "   3.2. The opening mode  \n",
    "**4.** And last, how the whole function will recieve it´s name"
   ]
  },
  {
   "cell_type": "markdown",
   "metadata": {},
   "source": [
    "### Opening modes\n",
    "\n",
    "The opening modes will depend on what you want to do with the file.  \n",
    "\n",
    "1. r = Reading mode. You use this type when you only want to use the data inside the file, and not actually change it\n",
    "2. w = Writing mode. You overwrite the file\n",
    "3. a = Append mode. The add to file\n",
    "4. x = Create. Creates the specified file, error if the file already exists"
   ]
  },
  {
   "cell_type": "markdown",
   "metadata": {},
   "source": [
    "Example"
   ]
  },
  {
   "cell_type": "code",
   "execution_count": 1,
   "metadata": {},
   "outputs": [
    {
     "name": "stdout",
     "output_type": "stream",
     "text": [
      "[33, 68, 75, 12, 64, 39, 95, 41, 45, 21]\n"
     ]
    }
   ],
   "source": [
    "numbers = []\n",
    "\n",
    "with open(\"file_to_operate/data_set1\", \"r\") as x:\n",
    "    for line in x:\n",
    "        numbers.append(int(line))\n",
    "\n",
    "print(numbers)"
   ]
  },
  {
   "cell_type": "markdown",
   "metadata": {},
   "source": [
    "Extra!\n",
    "\n",
    "An extra argument can be used to specified if the file should be handeled as binary or text mode\n",
    "\n",
    "t = Text. Default mode  \n",
    "b = Binary. Binary Mode  \n",
    "\n",
    "Another syntax that can be used is"
   ]
  },
  {
   "cell_type": "code",
   "execution_count": 5,
   "metadata": {},
   "outputs": [
    {
     "name": "stdout",
     "output_type": "stream",
     "text": [
      "[33, 68, 75, 12, 64, 39, 95, 41, 45, 21]\n"
     ]
    }
   ],
   "source": [
    "#r mode to read, and t mode to indicate it will be used as a text file\n",
    "numbers = []\n",
    "x = open(\"file_to_operate/data_set1\", \"rt\")\n",
    "for line in x:\n",
    "    numbers.append(int(line))\n",
    "\n",
    "print(numbers)\n"
   ]
  }
 ],
 "metadata": {
  "interpreter": {
   "hash": "15208e11845542cfb28df44cf6511d0c625a5824a77b490c800770b6de9dd612"
  },
  "kernelspec": {
   "display_name": "Python 3.8.10 ('venv': venv)",
   "language": "python",
   "name": "python3"
  },
  "language_info": {
   "codemirror_mode": {
    "name": "ipython",
    "version": 3
   },
   "file_extension": ".py",
   "mimetype": "text/x-python",
   "name": "python",
   "nbconvert_exporter": "python",
   "pygments_lexer": "ipython3",
   "version": "3.8.10"
  },
  "orig_nbformat": 4
 },
 "nbformat": 4,
 "nbformat_minor": 2
}
