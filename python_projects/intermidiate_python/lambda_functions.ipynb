{
 "cells": [
  {
   "cell_type": "markdown",
   "metadata": {},
   "source": [
    "# Lambda Functions  \n",
    "\n",
    "The definition of lambda function is:  \n",
    "\n",
    "Lambda expressions (sometimes called lambda forms) are used to create anonymous functions. The expression lambda parameters: expression yields a function object. The unnamed object behaves like a function object  \n",
    "\n",
    "reference: https://docs.python.org/3/reference/expressions.html 6.14. Lambdas"
   ]
  }
 ],
 "metadata": {
  "interpreter": {
   "hash": "15208e11845542cfb28df44cf6511d0c625a5824a77b490c800770b6de9dd612"
  },
  "kernelspec": {
   "display_name": "Python 3.8.10 ('venv': venv)",
   "language": "python",
   "name": "python3"
  },
  "language_info": {
   "name": "python",
   "version": "3.8.10"
  },
  "orig_nbformat": 4
 },
 "nbformat": 4,
 "nbformat_minor": 2
}
