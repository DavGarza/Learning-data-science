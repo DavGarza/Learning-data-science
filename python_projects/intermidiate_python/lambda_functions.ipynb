{
 "cells": [
  {
   "cell_type": "markdown",
   "metadata": {},
   "source": [
    "# Lambda Functions  \n",
    "\n",
    "The definition of lambda function is:  \n",
    "\n",
    "Lambda expressions (sometimes called lambda forms) are used to create anonymous functions. The expression lambda parameters: expression yields a function object. The unnamed object behaves like a function object  \n",
    "\n",
    "reference: https://docs.python.org/3/reference/expressions.html 6.14. Lambdas"
   ]
  },
  {
   "cell_type": "code",
   "execution_count": null,
   "metadata": {},
   "outputs": [],
   "source": [
    "cubes = lambda number: number**3\n",
    "print(cubes(4))"
   ]
  },
  {
   "cell_type": "code",
   "execution_count": null,
   "metadata": {},
   "outputs": [],
   "source": [
    "palindrome = lambda string: string == string[::-1]\n",
    "print(palindrome(\"hannah\"))"
   ]
  },
  {
   "cell_type": "markdown",
   "metadata": {},
   "source": [
    "# High order functions  \n",
    "\n",
    "The high order functions are functions that contains or has a parameter of another functions\n",
    "\n"
   ]
  },
  {
   "cell_type": "code",
   "execution_count": null,
   "metadata": {},
   "outputs": [],
   "source": [
    "def square():\n",
    "    sides = 4\n",
    "    print(sides)\n",
    "\n",
    "def triangle():\n",
    "    sides = 3\n",
    "    print(sides)\n",
    "\n",
    "def side(func):\n",
    "    func()\n",
    "\n",
    "side(square)\n",
    "side(triangle)\n"
   ]
  },
  {
   "cell_type": "markdown",
   "metadata": {},
   "source": [
    "And there are 3 special high order functions to watch\n",
    "\n",
    "### 1.Filter  \n",
    "\n",
    "The function filter is a function that extracts elements from an iterable (list,tuple,etc) for which a functions return \"True\".  \n",
    "\n",
    "reference: https://www.programiz.com/python-programming/methods/built-in/filter\n",
    "\n",
    "Syntax of the filter function:  \n",
    "\n",
    "**filter(function, iterable)**"
   ]
  },
  {
   "cell_type": "code",
   "execution_count": null,
   "metadata": {},
   "outputs": [],
   "source": [
    "iterable_list = [1,2,3,4,5,6,7,8,9,10]\n",
    "\n",
    "even_numb = list(filter(lambda i: i%2 == 0, iterable_list))\n",
    "\n",
    "print(even_numb)"
   ]
  },
  {
   "cell_type": "markdown",
   "metadata": {},
   "source": [
    "### 2.Map\n",
    "\n",
    "The map function returns an object(an iterable) of the results after applying the given function to each item of a given iterable.\n",
    "\n",
    "reference: https://www.geeksforgeeks.org/python-map-function/\n",
    "\n",
    "Syntax of the map function:  \n",
    "\n",
    "**map(function,iterable)**"
   ]
  },
  {
   "cell_type": "code",
   "execution_count": null,
   "metadata": {},
   "outputs": [],
   "source": [
    "iterable_list = [1,2,3,4,5,6,7,8,9,10]\n",
    "\n",
    "squares = list(map(lambda i: i**2,iterable_list))\n",
    "\n",
    "print(squares)"
   ]
  },
  {
   "cell_type": "markdown",
   "metadata": {},
   "source": [
    "### 3. Reduce  \n",
    "\n",
    "The reduce function is used to apply a particular function passed in its argument to all of the list elements mentioned in the sequence passed along.This function is defined in “functools” module.  And it consist in 4 steps  \n",
    "\n",
    "* At first step, first two elements of sequence are picked and the result is obtained.\n",
    "* Next step is to apply the same function to the previously attained result and the number just succeeding the second element and the result is again stored.\n",
    "* This process continues till no more elements are left in the container.\n",
    "* The final returned result is returned and printed on console."
   ]
  },
  {
   "cell_type": "code",
   "execution_count": null,
   "metadata": {},
   "outputs": [],
   "source": [
    "# import functools to work with reduce()\n",
    "import functools\n",
    "\n",
    "# Create a list\n",
    "list = [1,2,3,4,5]\n",
    "\n",
    "#Use reduce trough functools, and pass the arguments trough the lambda functions, create the function and pass the list\n",
    "sum_list = functools.reduce(lambda a, b: a+b, list)\n",
    "\n",
    "#Print the list passed trough the reduce function\n",
    "print(sum_list)"
   ]
  }
 ],
 "metadata": {
  "interpreter": {
   "hash": "15208e11845542cfb28df44cf6511d0c625a5824a77b490c800770b6de9dd612"
  },
  "kernelspec": {
   "display_name": "Python 3.8.10 ('venv': venv)",
   "language": "python",
   "name": "python3"
  },
  "language_info": {
   "codemirror_mode": {
    "name": "ipython",
    "version": 3
   },
   "file_extension": ".py",
   "mimetype": "text/x-python",
   "name": "python",
   "nbconvert_exporter": "python",
   "pygments_lexer": "ipython3",
   "version": "3.8.10"
  },
  "orig_nbformat": 4
 },
 "nbformat": 4,
 "nbformat_minor": 2
}
