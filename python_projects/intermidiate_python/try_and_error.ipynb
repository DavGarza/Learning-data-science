{
 "cells": [
  {
   "cell_type": "code",
   "execution_count": 18,
   "metadata": {},
   "outputs": [
    {
     "name": "stdout",
     "output_type": "stream",
     "text": [
      "['w', 'a', 't', 'e', 'r']\n",
      "-----\n"
     ]
    }
   ],
   "source": [
    "import random\n",
    "words = [\"water\", \"airplane\", \"wood\", \"amazing\"]\n",
    "\n",
    "word_choice = random.choice(words)\n",
    "word_choice_len = \"-\" * len(word_choice)\n",
    "\n",
    "letters_in_chosen_word = list(i for i in word_choice)\n",
    "print(letters_in_chosen_word)\n",
    "\n",
    "print(word_choice_len)\n"
   ]
  },
  {
   "cell_type": "code",
   "execution_count": 25,
   "metadata": {},
   "outputs": [
    {
     "name": "stdout",
     "output_type": "stream",
     "text": [
      "[(0, 'water'), (1, 'airplane'), (2, 'wood'), (3, 'amazing')]\n",
      "[(0, 'w'), (1, 'a'), (2, 't'), (3, 'e'), (4, 'r')]\n"
     ]
    }
   ],
   "source": [
    "words = [\"water\", \"airplane\", \"wood\", \"amazing\"]\n",
    "\n",
    "print(list(enumerate(words)))\n",
    "\n",
    "word = \"water\"\n",
    "\n",
    "print(list(enumerate(word)))\n",
    "\n"
   ]
  },
  {
   "cell_type": "code",
   "execution_count": 43,
   "metadata": {},
   "outputs": [
    {
     "name": "stdout",
     "output_type": "stream",
     "text": [
      "['w']\n",
      "['o']\n",
      "['o']\n",
      "['d']\n"
     ]
    }
   ],
   "source": [
    "word = \"wood\"\n",
    "for i in word:\n",
    "    print(list(i))"
   ]
  },
  {
   "cell_type": "code",
   "execution_count": 62,
   "metadata": {},
   "outputs": [
    {
     "name": "stdout",
     "output_type": "stream",
     "text": [
      "\n",
      "These are the difficulties\n",
      "1- Easy\n",
      "2- Medium\n",
      "3- Hard\n",
      "\n",
      "['HIEROGLYPHIC', 'RHIZOTOMY', 'FACTIONALIZE', 'IMPROVIDENT', 'GASTROTONOMETRY', 'VALETUDINARIAN', 'XYLOGRAPHY']\n"
     ]
    }
   ],
   "source": [
    "import random\n",
    "import os\n",
    "\n",
    "print(\"\"\"\n",
    "These are the difficulties\n",
    "1- Easy\n",
    "2- Medium\n",
    "3- Hard\n",
    "\"\"\")\n",
    "\n",
    "words = []\n",
    "\n",
    "dif = int(input(\"Choose your difficulty\"))\n",
    "\n",
    "if dif == 1:\n",
    "    with open(\"/home/david_gza/Archivos/data_science/git/python_projects/intermidiate_python/file_to_operate/easy_level.txt\") as x:\n",
    "        for line in x:\n",
    "            words.append(line.strip().upper())\n",
    "if dif == 2:\n",
    "    with open(\"/home/david_gza/Archivos/data_science/git/python_projects/intermidiate_python/file_to_operate/medium_level.txt\") as x:\n",
    "        for line in x:\n",
    "            words.append(line.strip().upper())\n",
    "if dif == 3:\n",
    "    with open(\"/home/david_gza/Archivos/data_science/git/python_projects/intermidiate_python/file_to_operate/hard_level.txt\") as x:\n",
    "        for line in x:\n",
    "            words.append(line.strip().upper())\n",
    "\n",
    "print(words)\n"
   ]
  }
 ],
 "metadata": {
  "interpreter": {
   "hash": "15208e11845542cfb28df44cf6511d0c625a5824a77b490c800770b6de9dd612"
  },
  "kernelspec": {
   "display_name": "Python 3.8.10 ('venv': venv)",
   "language": "python",
   "name": "python3"
  },
  "language_info": {
   "codemirror_mode": {
    "name": "ipython",
    "version": 3
   },
   "file_extension": ".py",
   "mimetype": "text/x-python",
   "name": "python",
   "nbconvert_exporter": "python",
   "pygments_lexer": "ipython3",
   "version": "3.8.10"
  },
  "orig_nbformat": 4
 },
 "nbformat": 4,
 "nbformat_minor": 2
}
