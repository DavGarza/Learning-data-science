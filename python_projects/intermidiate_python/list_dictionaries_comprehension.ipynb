{
 "cells": [
  {
   "cell_type": "markdown",
   "metadata": {},
   "source": [
    "# Lists, dictionaries and comprehension"
   ]
  },
  {
   "cell_type": "markdown",
   "metadata": {},
   "source": [
    "**A list in python according to python itself is:**  \n",
    "\n",
    "*A built-in Python sequence. Despite its name it is more akin to an array in other languages than to a linked list since access to elements is O(1).*  \n",
    "\n",
    "reference: https://docs.python.org/3/glossary.html\n",
    "\n",
    "But a more accurate definition would be:  \n",
    "\n",
    "*A list is a data structure in Python that is a mutable, or changeable, ordered sequence of elements. Each element or value that is inside of a list is called an item. Just as strings are defined as characters between quotes, lists are defined by having values between square brackets [ ].*\n",
    "  \n",
    "reference: https://www.digitalocean.com/community/tutorials/understanding-lists-in-python-3"
   ]
  },
  {
   "cell_type": "markdown",
   "metadata": {},
   "source": [
    "___  \n",
    "\n",
    "**A dicionary in python according to python itself is:**  \n",
    "\n",
    "*An associative array, where arbitrary keys are mapped to values. The keys can be any object with __hash__() and __eq__() methods. Called a hash in Perl.*  \n",
    "\n",
    "reference: https://docs.python.org/3/glossary.html\n",
    "\n",
    "But a more accurate definition would be:  \n",
    "\n",
    "*A dictionary is a collection which is ordered, changeable and do not allow duplicates.*  \n",
    "\n",
    "reference: https://www.w3schools.com/python/python_dictionaries.asp"
   ]
  },
  {
   "cell_type": "markdown",
   "metadata": {},
   "source": [
    "___\n",
    "Format for list and dictionary"
   ]
  },
  {
   "cell_type": "code",
   "execution_count": null,
   "metadata": {},
   "outputs": [],
   "source": [
    "list1 = [item1,item2,item3]\n",
    "dictionary1 = {item1,item2,item3}"
   ]
  },
  {
   "cell_type": "markdown",
   "metadata": {},
   "source": [
    "list having dictionaries, and dictionaries having lists"
   ]
  },
  {
   "cell_type": "code",
   "execution_count": null,
   "metadata": {},
   "outputs": [],
   "source": [
    "list1 = [\n",
    "    dict_1 = {item1,item2,item3},\n",
    "    dict_2 = {item1,item2,item3},\n",
    "    dict_3 = {item1,item2,item3}\n",
    "]\n",
    "\n",
    "dictionary1 = {\n",
    "    list_1 = [item1,item2,item3],\n",
    "    list_2 = [item1,item2,item3],\n",
    "    list_3 = [item1,item2,item3]\n",
    "}"
   ]
  },
  {
   "cell_type": "markdown",
   "metadata": {},
   "source": [
    "Examples with dictionary containing lists"
   ]
  },
  {
   "cell_type": "code",
   "execution_count": null,
   "metadata": {},
   "outputs": [],
   "source": [
    "def run():\n",
    "   dict = {\n",
    "       \"prime_numbers\": [1,2,3,5,7],\n",
    "       \"natural_numbers\": [10,15,16,77],\n",
    "       \"float_numbers\": [15.5,9.8,3.14]\n",
    "   }\n",
    "\n",
    "   for key, value in dict.items():\n",
    "       print(key, \"-\", value)\n",
    "\n",
    "\n",
    "if __name__ == \"__main__\":\n",
    "    run()"
   ]
  },
  {
   "cell_type": "markdown",
   "metadata": {},
   "source": [
    "Example of list containing dictionaries"
   ]
  },
  {
   "cell_type": "code",
   "execution_count": null,
   "metadata": {},
   "outputs": [],
   "source": [
    "def run():\n",
    "    list1 = [\n",
    "        {\"firstname\": \"Russel\", \"lastname\": \"Wallace\"},\n",
    "        {\"firstname\": \"Charles\", \"lastname\": \"Darwin\"},\n",
    "        {\"firstname\": \"Gregor\", \"lastname\": \"Mendel\"}\n",
    "    ]\n",
    "\n",
    "    print(list1)\n",
    "\n",
    "if __name__ == \"main\":\n",
    "    run()"
   ]
  },
  {
   "cell_type": "code",
   "execution_count": null,
   "metadata": {},
   "outputs": [],
   "source": [
    "group_1 = [169,177,174,170,177]\n",
    "group_2 = [186,168,167,189,179]\n",
    "group_3 = [171,175,172,180,191]\n",
    "    \n",
    "mean_group_1 = statistics.mean(group_1)\n",
    "mean_group_2 = statistics.mean(group_2)\n",
    "mean_group_3 = statistics.mean(group_3)\n",
    "\n",
    "print(\"group 1 mean is\", mean_group_1,\"group 2 mean is\", mean_group_2, \"group 3 mean is\", mean_group_3)"
   ]
  },
  {
   "cell_type": "markdown",
   "metadata": {},
   "source": [
    "Printing the square of the the first 100 numbers"
   ]
  },
  {
   "cell_type": "code",
   "execution_count": null,
   "metadata": {},
   "outputs": [],
   "source": [
    "squares = []\n",
    "for i in range(1,101):\n",
    "    if i % 3 == 0:\n",
    "        squares.append(i**2)\n",
    "        \n",
    "print(squares)"
   ]
  },
  {
   "cell_type": "markdown",
   "metadata": {},
   "source": [
    "---\n",
    "## List Comprehension\n",
    "\n",
    "According to Python Documentation:  \n",
    "\n",
    "List comprehensions provide a concise way to create lists. Common applications are to make **new lists where each element is the result of some operations applied to each member of another sequence** or iterable, or to create a subsequence of those elements that satisfy a certain condition.  \n",
    "\n",
    "References: https://docs.python.org/3/tutorial/datastructures.html#list-comprehensions\n",
    "\n",
    "Example"
   ]
  },
  {
   "cell_type": "code",
   "execution_count": null,
   "metadata": {},
   "outputs": [],
   "source": [
    "squares = [i for i in range(1,10000) if i % 36 == 0]\n",
    "print(squares)"
   ]
  },
  {
   "cell_type": "markdown",
   "metadata": {},
   "source": [
    "Next, code for dictionary, and dictionary comprehension"
   ]
  },
  {
   "cell_type": "code",
   "execution_count": null,
   "metadata": {},
   "outputs": [],
   "source": [
    "cubes = {}\n",
    "for i in range(101):\n",
    "        if i % 3 != 0:\n",
    "            cubes[i] = i**3\n",
    "\n",
    "print(cubes)\n"
   ]
  },
  {
   "cell_type": "markdown",
   "metadata": {},
   "source": [
    "Examples of dictionary comprehension"
   ]
  },
  {
   "cell_type": "code",
   "execution_count": null,
   "metadata": {},
   "outputs": [],
   "source": [
    "cubes = {i: i**3 for i in range(101) if i % 3 != 0}\n",
    "print(cubes)\n",
    "    "
   ]
  },
  {
   "cell_type": "code",
   "execution_count": null,
   "metadata": {},
   "outputs": [],
   "source": [
    "cubes = {i:round(i**0.5,2) for i in range(1001)}\n",
    "print(cubes)"
   ]
  }
 ],
 "metadata": {
  "interpreter": {
   "hash": "31f2aee4e71d21fbe5cf8b01ff0e069b9275f58929596ceb00d14d90e3e16cd6"
  },
  "kernelspec": {
   "display_name": "Python 3.8.10 64-bit",
   "language": "python",
   "name": "python3"
  },
  "language_info": {
   "codemirror_mode": {
    "name": "ipython",
    "version": 3
   },
   "file_extension": ".py",
   "mimetype": "text/x-python",
   "name": "python",
   "nbconvert_exporter": "python",
   "pygments_lexer": "ipython3",
   "version": "3.8.10"
  },
  "orig_nbformat": 4
 },
 "nbformat": 4,
 "nbformat_minor": 2
}
