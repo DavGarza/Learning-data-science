{
 "cells": [
  {
   "cell_type": "markdown",
   "metadata": {},
   "source": [
    "# Lists, dictionaries and comprehension"
   ]
  },
  {
   "cell_type": "markdown",
   "metadata": {},
   "source": [
    "**A list in python according to python itself is:**  \n",
    "\n",
    "*A built-in Python sequence. Despite its name it is more akin to an array in other languages than to a linked list since access to elements is O(1).*  \n",
    "\n",
    "reference: https://docs.python.org/3/glossary.html\n",
    "\n",
    "But a more accurate definition would be:  \n",
    "\n",
    "*A list is a data structure in Python that is a mutable, or changeable, ordered sequence of elements. Each element or value that is inside of a list is called an item. Just as strings are defined as characters between quotes, lists are defined by having values between square brackets [ ].*\n",
    "  \n",
    "reference: https://www.digitalocean.com/community/tutorials/understanding-lists-in-python-3"
   ]
  },
  {
   "cell_type": "markdown",
   "metadata": {},
   "source": [
    "___  \n",
    "\n",
    "**A dicionary in python according to python itself is:**  \n",
    "\n",
    "*An associative array, where arbitrary keys are mapped to values. The keys can be any object with __hash__() and __eq__() methods. Called a hash in Perl.*  \n",
    "\n",
    "reference: https://docs.python.org/3/glossary.html\n",
    "\n",
    "But a more accurate definition would be:  \n",
    "\n",
    "*A dictionary is a collection which is ordered, changeable and do not allow duplicates.*  \n",
    "\n",
    "reference: https://www.w3schools.com/python/python_dictionaries.asp"
   ]
  },
  {
   "cell_type": "markdown",
   "metadata": {},
   "source": [
    "___\n",
    "Format for list and dictionary"
   ]
  },
  {
   "cell_type": "code",
   "execution_count": null,
   "metadata": {},
   "outputs": [],
   "source": [
    "list1 = [item1,item2,item3]\n",
    "dictionary1 = {item1,item2,item3}"
   ]
  },
  {
   "cell_type": "markdown",
   "metadata": {},
   "source": [
    "list having dictionaries, and dictionaries having lists"
   ]
  },
  {
   "cell_type": "code",
   "execution_count": null,
   "metadata": {},
   "outputs": [],
   "source": [
    "list1 = [\n",
    "    dict_1 = {item1,item2,item3}\n",
    "    dict_2 = {item1,item2,item3}\n",
    "    dict_3 = {item1,item2,item3}\n",
    "]\n",
    "\n",
    "dictionary1 = {\n",
    "    list_1 = [item1,item2,item3]\n",
    "    list_2 = [item1,item2,item3]\n",
    "    list_3 = [item1,item2,item3]\n",
    "}"
   ]
  }
 ],
 "metadata": {
  "language_info": {
   "name": "python"
  },
  "orig_nbformat": 4
 },
 "nbformat": 4,
 "nbformat_minor": 2
}
