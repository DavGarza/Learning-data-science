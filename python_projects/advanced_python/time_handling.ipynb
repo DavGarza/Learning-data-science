{
 "cells": [
  {
   "cell_type": "markdown",
   "metadata": {},
   "source": [
    "# Time Handling\n",
    "\n",
    "Trough the module **datetime** one can have different functions with the module\n",
    "\n",
    "first, printing the actual time and date"
   ]
  },
  {
   "cell_type": "code",
   "execution_count": null,
   "metadata": {},
   "outputs": [],
   "source": [
    "import datetime\n",
    "\n",
    "#Acces the date and time of \"right now\"\n",
    "time = datetime.datetime.now()\n",
    "print(time)\n"
   ]
  },
  {
   "cell_type": "code",
   "execution_count": null,
   "metadata": {},
   "outputs": [],
   "source": [
    "import datetime\n",
    "\n",
    "#Access the date only, notice the different syntax\n",
    "time = datetime.date.today()\n",
    "print(time)"
   ]
  },
  {
   "cell_type": "code",
   "execution_count": null,
   "metadata": {},
   "outputs": [],
   "source": [
    "import datetime\n",
    "\n",
    "#Access year, month and day individualy\n",
    "time = datetime.date.today()\n",
    "print(f\"Year: {time.year}\")\n",
    "print(f\"Month: {time.month}\")\n",
    "print(f\"Day: {time.day}\")"
   ]
  },
  {
   "cell_type": "markdown",
   "metadata": {},
   "source": [
    "### Date/Time Formating\n",
    "\n",
    "One can change the format and order of the date and time with the following code\n",
    "\n",
    "%Y = Year  \n",
    "%m = Month  \n",
    "%d = day  \n",
    "%H = Hour  \n",
    "%M = Minute  \n",
    "%S = Seconds  "
   ]
  },
  {
   "cell_type": "code",
   "execution_count": 9,
   "metadata": {},
   "outputs": [
    {
     "name": "stdout",
     "output_type": "stream",
     "text": [
      "02/05/2022\n",
      "05/02/2022\n"
     ]
    }
   ],
   "source": [
    "from datetime import datetime \n",
    "\n",
    "date1 = datetime.now()\n",
    "\n",
    "#Metric System\n",
    "date2 = date1.strftime(\"%d/%m/%Y\")\n",
    "print(date2)\n",
    "\n",
    "#Imperial System\n",
    "date3 = date1.strftime(\"%m/%d/%Y\")\n",
    "print(date3)"
   ]
  }
 ],
 "metadata": {
  "interpreter": {
   "hash": "31f2aee4e71d21fbe5cf8b01ff0e069b9275f58929596ceb00d14d90e3e16cd6"
  },
  "kernelspec": {
   "display_name": "Python 3.8.10 64-bit",
   "language": "python",
   "name": "python3"
  },
  "language_info": {
   "codemirror_mode": {
    "name": "ipython",
    "version": 3
   },
   "file_extension": ".py",
   "mimetype": "text/x-python",
   "name": "python",
   "nbconvert_exporter": "python",
   "pygments_lexer": "ipython3",
   "version": "3.8.10"
  },
  "orig_nbformat": 4
 },
 "nbformat": 4,
 "nbformat_minor": 2
}
