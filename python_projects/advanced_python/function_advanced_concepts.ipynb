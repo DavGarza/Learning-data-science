{
 "cells": [
  {
   "cell_type": "markdown",
   "metadata": {},
   "source": [
    "# Advanced concept of functions\n",
    "\n",
    "### 1. Scope  \n",
    "\n",
    "It refers to the scope and limitations of a variable  \n",
    "A variable is only available inside the region it was created\n",
    "\n",
    "* Local Variable: It is a variable which scope is only limited to the region it was created\n",
    "* Global Variable: It is a variable which scope is the entire file"
   ]
  },
  {
   "cell_type": "code",
   "execution_count": null,
   "metadata": {},
   "outputs": [],
   "source": [
    "#Example\n",
    "\n",
    "def funct():\n",
    "    #Local Variable\n",
    "    x = 5\n",
    "\n",
    "# In here x will not be printed because x is defined inside a function that has not been called\n",
    "print(x)"
   ]
  },
  {
   "cell_type": "code",
   "execution_count": null,
   "metadata": {},
   "outputs": [],
   "source": [
    "# In here we added the print command inside the function, and then the function is called\n",
    "def funct():\n",
    "    x = 5\n",
    "    print(x)\n",
    "\n",
    "funct()\n",
    "\n"
   ]
  },
  {
   "cell_type": "code",
   "execution_count": null,
   "metadata": {},
   "outputs": [],
   "source": [
    "#In here x was declared outside any function, so it is a global variable, and it can be access from anywhere\n",
    "#Global Variable\n",
    "x = 2\n",
    "\n",
    "def funct():\n",
    "    print(x)\n",
    "#The function print(x) has been declared twice, one inside the function, one outside, so the value of x should be printed twice\n",
    "funct()\n",
    "print(x)\n"
   ]
  },
  {
   "cell_type": "code",
   "execution_count": null,
   "metadata": {},
   "outputs": [],
   "source": [
    "x = 2\n",
    "\n",
    "def funct():\n",
    "    x = 5\n",
    "    print(x)\n",
    "\n",
    "#We have two variables with the same name, but they work independently, because of the scope of each one\n",
    "\n",
    "funct()\n",
    "print(x)"
   ]
  },
  {
   "cell_type": "markdown",
   "metadata": {},
   "source": [
    "### 2. Closure\n",
    "\n",
    "It is a type of situation in a function and it meets 3 criteria  \n",
    "* There should be a nested function\n",
    "* The nested function should reference a value of a superior variable\n",
    "* the function that includes the nested function should also return"
   ]
  },
  {
   "cell_type": "code",
   "execution_count": null,
   "metadata": {},
   "outputs": [],
   "source": [
    "def main():\n",
    "    a = 1\n",
    "\n",
    "    def nested():\n",
    "        print(a)\n",
    "\n",
    "    nested()\n",
    "\n",
    "main()\n"
   ]
  },
  {
   "cell_type": "code",
   "execution_count": null,
   "metadata": {},
   "outputs": [],
   "source": [
    "#Another example of closure\n",
    "def divisor(n):\n",
    "    return lambda x: x//n\n",
    "\n",
    "def run():\n",
    "    divisor_3 = divisor(3)\n",
    "    print(divisor_3(18))\n",
    "\n",
    "run()"
   ]
  },
  {
   "cell_type": "code",
   "execution_count": null,
   "metadata": {},
   "outputs": [],
   "source": [
    "#Another simplified version of closure\n",
    "division = lambda n: lambda x: x//n\n",
    "\n",
    "division_3 = division(3)\n",
    "print(division_3(18))"
   ]
  },
  {
   "cell_type": "markdown",
   "metadata": {},
   "source": [
    "### 3. Decorator\n",
    "\n",
    "It is a type of closure where **a function takes another function as argument, and return yet a third function**(or the origial one, but modified, as you want to see it, glass half empty, or half full)"
   ]
  },
  {
   "cell_type": "code",
   "execution_count": null,
   "metadata": {},
   "outputs": [],
   "source": [
    "def mayus(func):\n",
    "    def wrap(text):\n",
    "        return func(text).upper()\n",
    "    return wrap\n",
    "\n",
    "@mayus\n",
    "def message(name):\n",
    "    return f\"{name}, the force is strong in you\"\n",
    "\n",
    "\n",
    "print(message(\"Gabriel\"))\n"
   ]
  }
 ],
 "metadata": {
  "interpreter": {
   "hash": "31f2aee4e71d21fbe5cf8b01ff0e069b9275f58929596ceb00d14d90e3e16cd6"
  },
  "kernelspec": {
   "display_name": "Python 3.8.10 64-bit",
   "language": "python",
   "name": "python3"
  },
  "language_info": {
   "codemirror_mode": {
    "name": "ipython",
    "version": 3
   },
   "file_extension": ".py",
   "mimetype": "text/x-python",
   "name": "python",
   "nbconvert_exporter": "python",
   "pygments_lexer": "ipython3",
   "version": "3.8.10"
  },
  "orig_nbformat": 4
 },
 "nbformat": 4,
 "nbformat_minor": 2
}
