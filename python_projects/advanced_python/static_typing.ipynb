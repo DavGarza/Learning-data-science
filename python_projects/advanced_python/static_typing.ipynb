{
 "cells": [
  {
   "cell_type": "markdown",
   "metadata": {},
   "source": [
    "# Static Typing\n",
    "\n",
    "Python is a dinamic language, that means, any error will show during execution, and that can create a problem  \n",
    "\n",
    "The way to type in order to make python static is the next"
   ]
  },
  {
   "cell_type": "code",
   "execution_count": null,
   "metadata": {},
   "outputs": [],
   "source": [
    "a: int = 5\n",
    "b: str = \"World\"\n",
    "c: float = 3.6\n",
    "d: bool = False\n",
    "\n",
    "print(type(a), a,)\n",
    "print(type(b), b,)\n",
    "print(type(c), c,)\n",
    "print(type(d), d,)"
   ]
  },
  {
   "cell_type": "markdown",
   "metadata": {},
   "source": [
    "The same can be applied to functions with the next syntax"
   ]
  },
  {
   "cell_type": "code",
   "execution_count": null,
   "metadata": {},
   "outputs": [],
   "source": [
    "#Inside the parameters of the function we type the arguments\n",
    "#and next we can add what type the result of the function will be\n",
    "def add(x: int, y: int) -> int:\n",
    "    return x + y\n",
    "\n",
    "print(add(5,5))\n",
    "\n",
    "#but what happens when we not apply the type of the function in the argument\n",
    "print(add(\"2\", \"1\"))\n",
    "\n",
    "#it concatentes the two numbers, even do we specify that they are supposed to be integers\n",
    "print(add(\"l\",\"y\"))"
   ]
  },
  {
   "cell_type": "markdown",
   "metadata": {},
   "source": [
    "To do this in list and dictionaries we type the next syntax"
   ]
  },
  {
   "cell_type": "code",
   "execution_count": null,
   "metadata": {},
   "outputs": [],
   "source": [
    "from typing import Dict, List\n",
    "\n",
    "population: Dict[str,int] = {\n",
    "    \"canada\": 38000000,\n",
    "    \"brazil\": 212000000,\n",
    "    \"japan\":125000000 ,\n",
    "}\n"
   ]
  },
  {
   "cell_type": "markdown",
   "metadata": {},
   "source": [
    "And with tuple"
   ]
  },
  {
   "cell_type": "code",
   "execution_count": null,
   "metadata": {},
   "outputs": [],
   "source": [
    "from typing import Tuple\n",
    "\n",
    "answer: Tuple[int,float,str,bool] = (6, 4.8, \"lol\", False)"
   ]
  },
  {
   "cell_type": "markdown",
   "metadata": {},
   "source": [
    "A list, containing a dictionary, that the value of the dctionaries is a tuple"
   ]
  },
  {
   "cell_type": "code",
   "execution_count": null,
   "metadata": {},
   "outputs": [],
   "source": [
    "from typing import Tuple, Dict, List\n",
    "\n",
    "age = List[Dict[str, Tuple[int, int]]]\n",
    "\n",
    "age = [\n",
    "    {\n",
    "        \"couple1\": (34,33),\n",
    "        \"couple2\": (76,70),\n",
    "        \"couple3\": (55,70),\n",
    "    }\n",
    "]\n",
    "\n",
    "print(age)"
   ]
  }
 ],
 "metadata": {
  "interpreter": {
   "hash": "31f2aee4e71d21fbe5cf8b01ff0e069b9275f58929596ceb00d14d90e3e16cd6"
  },
  "kernelspec": {
   "display_name": "Python 3.8.10 64-bit",
   "language": "python",
   "name": "python3"
  },
  "language_info": {
   "codemirror_mode": {
    "name": "ipython",
    "version": 3
   },
   "file_extension": ".py",
   "mimetype": "text/x-python",
   "name": "python",
   "nbconvert_exporter": "python",
   "pygments_lexer": "ipython3",
   "version": "3.8.10"
  },
  "orig_nbformat": 4
 },
 "nbformat": 4,
 "nbformat_minor": 2
}
