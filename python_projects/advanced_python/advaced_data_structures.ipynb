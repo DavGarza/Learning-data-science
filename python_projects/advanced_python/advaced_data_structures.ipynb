{
 "cells": [
  {
   "cell_type": "markdown",
   "metadata": {},
   "source": [
    "# Data Structures"
   ]
  },
  {
   "cell_type": "markdown",
   "metadata": {},
   "source": [
    "### 1. Iterables and Iterators\n",
    "\n",
    "An Iterable is a set of data which can be traversed  \n",
    "For example: List, Dictionary, String\n",
    "\n",
    "An iterator is a built-in class with functions that allows you to return an object which you an iterate over one value a a time\n",
    "\n",
    "The function **for** in python, is actually a decorator from other 2 functions: iter(), and next(), to transform it into an iterator"
   ]
  },
  {
   "cell_type": "markdown",
   "metadata": {},
   "source": [
    "To do manually an iterator it is neccesary 3 functions:  \n",
    "* __init__()\n",
    "* __iter__()\n",
    "* __next__()"
   ]
  },
  {
   "cell_type": "code",
   "execution_count": null,
   "metadata": {},
   "outputs": [],
   "source": [
    "class even_numbers:\n",
    "    def __init__(self, max=1000):\n",
    "        self.max = max\n",
    "    \n",
    "    def __iter__(self):\n",
    "        self.num = 0\n",
    "        return self\n",
    "    \n",
    "    def __next__(self):\n",
    "        if not self.max or self.num <= self.max:\n",
    "            result = self.num\n",
    "            self.num =+ 2\n",
    "            return result\n",
    "        else:\n",
    "                raise StopIteration"
   ]
  },
  {
   "cell_type": "markdown",
   "metadata": {},
   "source": [
    "Iterator with fibonacci sequence"
   ]
  },
  {
   "cell_type": "code",
   "execution_count": null,
   "metadata": {},
   "outputs": [],
   "source": [
    "import time\n",
    "\n",
    "class FiboIter():\n",
    "    \n",
    "    def __iter__(self):\n",
    "        self.n1 = 0\n",
    "        self.n2 = 1\n",
    "        self.counter = 0\n",
    "        return self\n",
    "\n",
    "    def __next__(self):\n",
    "        if self.counter == 50:\n",
    "            raise StopIteration \n",
    "        else:\n",
    "            if self.counter == 0:\n",
    "                self.counter += 1\n",
    "                return self.n1\n",
    "            elif self.counter == 1:\n",
    "                self.counter += 1\n",
    "                return self.n2\n",
    "            else:\n",
    "                self.aux = self.n1 + self.n2\n",
    "                self.n1, self.n2 = self.n2, self.aux\n",
    "                self.counter += 1\n",
    "                return self.aux\n",
    "\n",
    "fibonacci = FiboIter()\n",
    "for element in fibonacci:\n",
    "    print(element)\n",
    "    time.sleep(0.05)"
   ]
  },
  {
   "cell_type": "markdown",
   "metadata": {},
   "source": [
    "### 2. Generators  \n",
    "\n",
    "Generators are a simple way of creating an iterator, the conditions and some differences with iterator are the next  \n",
    "\n",
    "* Instead of creating a class, it is created a function\n",
    "* it has the **yield** statement"
   ]
  },
  {
   "cell_type": "code",
   "execution_count": null,
   "metadata": {},
   "outputs": [],
   "source": [
    "def count():\n",
    "    a = \"First\"\n",
    "    yield a\n",
    "\n",
    "    a = \"Second\"\n",
    "    yield a\n",
    "\n",
    "    a = \"Third\"\n",
    "    yield a\n",
    "\n",
    "for i in count():\n",
    "    print(i)"
   ]
  },
  {
   "cell_type": "code",
   "execution_count": null,
   "metadata": {},
   "outputs": [],
   "source": [
    "def count():\n",
    "    a = print(\"One\")\n",
    "    yield a\n",
    "\n",
    "    a = print(\"Two\")\n",
    "    yield a \n",
    "\n",
    "    a = print(\"Three\")\n",
    "    yield a\n",
    "\n",
    "l = count()\n",
    "print(next(l))\n",
    "print(next(l))\n",
    "print(next(l))\n"
   ]
  },
  {
   "cell_type": "code",
   "execution_count": null,
   "metadata": {},
   "outputs": [],
   "source": [
    "import time\n",
    "def fib(max):\n",
    "    n1 = 0\n",
    "    n2 = 1\n",
    "    counter = 0\n",
    "\n",
    "    while counter <= max:\n",
    "        counter += 1\n",
    "        next = n1 + n2\n",
    "        n1, n2 = n2, next\n",
    "        yield next\n",
    "\n",
    "if __name__ == \"__main__\":\n",
    "    for i in fib(1000):\n",
    "        print(i)\n",
    "        time.sleep(0.5)\n",
    "    "
   ]
  },
  {
   "cell_type": "markdown",
   "metadata": {},
   "source": [
    "### 3. Sets\n",
    "\n",
    "A set is an **unordered** collection with no **duplicate** elements. Set objects support mathematical operations.\n",
    "\n",
    "Curly braces without double dots : or the set() function can be used to create sets. Note: to create an empty set you have to use set(), not {}."
   ]
  },
  {
   "cell_type": "code",
   "execution_count": null,
   "metadata": {},
   "outputs": [],
   "source": [
    "#Defining a set\n",
    "a = {\"World\", False, 3.14,}\n",
    "print(a)\n",
    "\n",
    "#Converting a list into a set, notice how the repited data is eliminated\n",
    "b = set([1,2,2,3,3,3,4,4,4,4])\n",
    "print(b)\n",
    "\n",
    "#Adding data into a set\n",
    "a.add(4)\n",
    "print(a)\n",
    "\n",
    "#adding a set of data into a set\n",
    "a.update([\"Many\", 12.2, True])\n",
    "print(a)\n",
    "\n",
    "#Removing data with 2 functions\n",
    "a.discard(\"Many\")\n",
    "print(a)\n",
    "\n",
    "a.remove(12.2)\n",
    "print(a)\n",
    "\n",
    "#Removing a random element\n",
    "a.pop()\n",
    "print(a)\n",
    "\n",
    "#To remove everything from a set\n",
    "a.clear()\n",
    "print(a)"
   ]
  },
  {
   "cell_type": "markdown",
   "metadata": {},
   "source": [
    "Operations with sets"
   ]
  },
  {
   "cell_type": "code",
   "execution_count": 54,
   "metadata": {},
   "outputs": [
    {
     "name": "stdout",
     "output_type": "stream",
     "text": [
      "{1, 2, 3, 4, 5, 6, 7}\n",
      "{3, 4, 5}\n",
      "{1, 2}\n",
      "{6, 7}\n",
      "{1, 2, 6, 7}\n",
      "{1, 2, 3, 4, 5, 6, 7}\n",
      "{3, 4, 5}\n",
      "{1, 2}\n",
      "{6, 7}\n",
      "{1, 2, 6, 7}\n"
     ]
    }
   ],
   "source": [
    "#Defining the two sets\n",
    "set_1 = {1,2,3,4,5}\n",
    "set_2 = {3,4,5,6,7}\n",
    "\n",
    "#Join (function) both seths\n",
    "set_3 = set_1 | set_2\n",
    "print(set_3)\n",
    "\n",
    "#Intersection function, to join only the repetead elements in both sets\n",
    "set_3 = set_1 & set_2\n",
    "print(set_3)\n",
    "\n",
    "#Difference function, exclude the repetead elements, and bring the rest from 1 set\n",
    "set_3 = set_1 - set_2\n",
    "print(set_3)\n",
    "\n",
    "set_3 = set_2 - set_1\n",
    "print(set_3)\n",
    "\n",
    "#Symmetric difference, excludes the repetead elements, and brings the rest from both sets\n",
    "set_3 = set_1 ^ set_2\n",
    "print(set_3)\n",
    "\n",
    "#On the other hand we can use the exact functions, with different syntax\n",
    "\n",
    "set_3 = set_1.union(set_2)\n",
    "print(set_3)\n",
    "\n",
    "set_3 = set_1.intersection(set_2)\n",
    "print(set_3)\n",
    "\n",
    "set_3 = set_1.difference(set_2)\n",
    "print(set_3)\n",
    "\n",
    "set_3 = set_2.difference(set_1)\n",
    "print(set_3)\n",
    "\n",
    "set_3 = set_1.symmetric_difference(set_2)\n",
    "print(set_3)"
   ]
  },
  {
   "cell_type": "code",
   "execution_count": 57,
   "metadata": {},
   "outputs": [
    {
     "name": "stdout",
     "output_type": "stream",
     "text": [
      "{1, 2, 3, 4, 5}\n"
     ]
    }
   ],
   "source": [
    "#Passing an iterable through a set, automatically removes the duplicates\n",
    "list1 = [1,2,2,3,3,3,4,4,4,4,5,5,5,5,5]\n",
    "print(set(list1))"
   ]
  }
 ],
 "metadata": {
  "interpreter": {
   "hash": "31f2aee4e71d21fbe5cf8b01ff0e069b9275f58929596ceb00d14d90e3e16cd6"
  },
  "kernelspec": {
   "display_name": "Python 3.8.10 64-bit",
   "language": "python",
   "name": "python3"
  },
  "language_info": {
   "codemirror_mode": {
    "name": "ipython",
    "version": 3
   },
   "file_extension": ".py",
   "mimetype": "text/x-python",
   "name": "python",
   "nbconvert_exporter": "python",
   "pygments_lexer": "ipython3",
   "version": "3.8.10"
  },
  "orig_nbformat": 4
 },
 "nbformat": 4,
 "nbformat_minor": 2
}
