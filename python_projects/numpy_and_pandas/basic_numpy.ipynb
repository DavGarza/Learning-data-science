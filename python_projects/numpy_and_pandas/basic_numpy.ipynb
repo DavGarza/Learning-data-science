{
 "cells": [
  {
   "cell_type": "markdown",
   "metadata": {},
   "source": [
    "# Numpy\n",
    "\n",
    "NumPy is the fundamental package for scientific computing in Python, it is a Python library that provides a multidimensional array object, and has diverse functions for manipulation, transformation and data analysis."
   ]
  },
  {
   "cell_type": "code",
   "execution_count": null,
   "metadata": {},
   "outputs": [],
   "source": [
    "# The way numpy is imported\n",
    "import numpy as np"
   ]
  },
  {
   "cell_type": "markdown",
   "metadata": {},
   "source": [
    "### Array\n",
    "\n",
    "The basic component of numpy is the **array**  \n",
    "Array: is a grid of values, all of the same type, and is indexed by a tuple of nonnegative integers."
   ]
  },
  {
   "cell_type": "code",
   "execution_count": 11,
   "metadata": {},
   "outputs": [
    {
     "name": "stdout",
     "output_type": "stream",
     "text": [
      "<class 'numpy.ndarray'>\n",
      "[1 2 3 4 5]\n",
      "1\n"
     ]
    }
   ],
   "source": [
    "#To create an array, first we have to establish a set of data\n",
    "import numpy as np\n",
    "list1 = [1,2,3,4,5]\n",
    "list1 = np.array(list1)\n",
    "\n",
    "print(type(list1))\n",
    "print(list1)\n"
   ]
  },
  {
   "cell_type": "markdown",
   "metadata": {},
   "source": [
    "The example above, was an array of 1 dimension, we can use 2 or even 3 dimensions.  \n",
    "In mathematics it is called a matrix"
   ]
  },
  {
   "cell_type": "code",
   "execution_count": 10,
   "metadata": {},
   "outputs": [
    {
     "name": "stdout",
     "output_type": "stream",
     "text": [
      "[1 2 3 4 5]\n",
      "[[1 2 3]\n",
      " [4 5 6]\n",
      " [7 8 9]]\n"
     ]
    }
   ],
   "source": [
    "import numpy as np\n",
    "\n",
    "# 1 dimension array\n",
    "list1 = [1,2,3,4,5]\n",
    "list1 = np.array(list1)\n",
    "\n",
    "print(list1)\n",
    "\n",
    "# 2 dimension array\n",
    "list2 = [[1,2,3], [4,5,6], [7,8,9]]\n",
    "list2 = np.array(list2)\n",
    "print(list2)"
   ]
  },
  {
   "cell_type": "markdown",
   "metadata": {},
   "source": [
    "The numpy arrays are indexed, that means they follow an order, and it can be iterated trough"
   ]
  },
  {
   "cell_type": "code",
   "execution_count": 25,
   "metadata": {},
   "outputs": [
    {
     "name": "stdout",
     "output_type": "stream",
     "text": [
      "1\n",
      "[1 2]\n"
     ]
    }
   ],
   "source": [
    "import numpy as np\n",
    "\n",
    "list1 = [1,2,3,4,5]\n",
    "list1 = np.array(list1)\n",
    "\n",
    "#The position 0 is the first position in an indexed set of data\n",
    "print(list1[0])\n",
    "print(list1[0:2])"
   ]
  },
  {
   "cell_type": "code",
   "execution_count": 37,
   "metadata": {},
   "outputs": [
    {
     "name": "stdout",
     "output_type": "stream",
     "text": [
      "[1 2 3]\n",
      "[4 5 6]\n",
      "[7 8 9]\n",
      "1\n",
      "5\n",
      "9\n"
     ]
    }
   ],
   "source": [
    "#You can also acces the index position in a matrix\n",
    "list1 = [[1,2,3], [4,5,6], [7,8,9]]\n",
    "list1 = np.array(list2)\n",
    "\n",
    "#Accesing the first row\n",
    "print(list1[0])\n",
    "\n",
    "#Acessing the second row\n",
    "print(list1[1])\n",
    "\n",
    "#Acessing the Third row\n",
    "print(list1[2])\n",
    "\n",
    "#Acessing the first row, first column\n",
    "print(list1[0,0])\n",
    "\n",
    "#Acessing the second row, second column\n",
    "print(list1[1,1])\n",
    "\n",
    "#Acessing the third row, third column\n",
    "print(list1[2,2])\n"
   ]
  },
  {
   "cell_type": "code",
   "execution_count": 40,
   "metadata": {},
   "outputs": [
    {
     "name": "stdout",
     "output_type": "stream",
     "text": [
      "3\n",
      "3\n",
      "2\n",
      "2.5\n",
      "[ 4 10 18]\n",
      "[1 4 9]\n"
     ]
    }
   ],
   "source": [
    "#You can do operations with this indices\n",
    "list1 = [1,2,3,4,5]\n",
    "\n",
    "print(list1[0] + list1[1])\n",
    "\n",
    "print(list1[4] - list1[1])\n",
    "\n",
    "print(list1[0] * list1[1])\n",
    "\n",
    "print(list1[4] / list1[1])\n",
    "\n",
    "#Operations with matrices\n",
    "list2 = [\n",
    "    [1,2,3],\n",
    "    [4,5,6],\n",
    "    [7,8,9]\n",
    "]\n",
    "list2 = np.array(list2)\n",
    "\n",
    "print(list2[0] * list2[1])\n",
    "print(list2[0] * list2[0])\n",
    "\n",
    "\n",
    "\n",
    "\n"
   ]
  },
  {
   "cell_type": "markdown",
   "metadata": {},
   "source": [
    "### Data types"
   ]
  },
  {
   "cell_type": "code",
   "execution_count": 56,
   "metadata": {},
   "outputs": [
    {
     "name": "stdout",
     "output_type": "stream",
     "text": [
      "int64\n",
      "[12 34 15  9  3]\n",
      "bool\n",
      "[ True  True  True  True  True]\n",
      "float64\n",
      "[1. 1. 1. 1. 1.]\n",
      "|S32\n",
      "[b'1.0' b'1.0' b'1.0' b'1.0' b'1.0']\n"
     ]
    }
   ],
   "source": [
    "import numpy as np\n",
    "\n",
    "list1 = [12,34,15,9,3]\n",
    "list1 = np.array(list1)\n",
    "\n",
    "#The printed array is an integer\n",
    "print(list1.dtype)\n",
    "print(list1)\n",
    "\n",
    "#Then transformed into boolean\n",
    "list1 = list1.astype(np.bool_)\n",
    "print(list1.dtype)\n",
    "print(list1)\n",
    "\n",
    "#Then transformed into float\n",
    "list1 = list1.astype(np.float_)\n",
    "print(list1.dtype)\n",
    "print(list1)\n",
    "\n",
    "#Then transformed into string\n",
    "list1 = list1.astype(np.string_)\n",
    "print(list1.dtype)\n",
    "print(list1)\n",
    "\n"
   ]
  },
  {
   "cell_type": "markdown",
   "metadata": {},
   "source": [
    "### Dimensions\n",
    "\n",
    "The arrays can have multiple dimensions, and tehir names are\n",
    "* Scalar: No dimensions, just a single data\n",
    "* Vector: 1 Dimensions, a single row of data\n",
    "* Matrix: 2 Dimensions\n",
    "* Matrix: 3 Dimensions\n",
    "* Tensor. 4 or more Dimensions"
   ]
  },
  {
   "cell_type": "code",
   "execution_count": 13,
   "metadata": {},
   "outputs": [
    {
     "name": "stdout",
     "output_type": "stream",
     "text": [
      "5\n",
      "This array has 0 dimensions\n",
      "[2 3 5 7]\n",
      "This array has 1 dimensions\n",
      "[[ 0  1  1]\n",
      " [ 2  3  5]\n",
      " [ 8 13 21]]\n",
      "This array has 2 dimensions\n",
      "[[[ 1  2  3]\n",
      "  [ 4  5  6]\n",
      "  [ 7  8  9]]\n",
      "\n",
      " [[10 11 12]\n",
      "  [13 14 15]\n",
      "  [16 17 18]]]\n",
      "This array has 3 dimensions\n",
      "[[[[ 1  2  3]\n",
      "   [ 4  5  6]]\n",
      "\n",
      "  [[ 7  8  9]\n",
      "   [10 11 12]]]\n",
      "\n",
      "\n",
      " [[[13 14 15]\n",
      "   [16 17 18]]\n",
      "\n",
      "  [[19 20 21]\n",
      "   [22 23 24]]]]\n",
      "This array has 4 dimensions\n"
     ]
    }
   ],
   "source": [
    "#Examples of dimensions\n",
    "import numpy as np\n",
    "\n",
    "# 0 Dimensions, a single data\n",
    "scalar = np.array(5)\n",
    "print(scalar)\n",
    "print(\"This array has\", scalar.ndim, \"dimensions\")\n",
    "\n",
    "# 1 dimensions\n",
    "vector = [2,3,5,7]\n",
    "vector = np.array(vector)\n",
    "print(vector)\n",
    "print(\"This array has\", vector.ndim, \"dimensions\")\n",
    "\n",
    "# 2 Dimensions\n",
    "matrix = [\n",
    "    [0,1,1],\n",
    "    [2,3,5],\n",
    "    [8,13,21]\n",
    "]\n",
    "\n",
    "matrix = np.array(matrix)\n",
    "\n",
    "print(matrix)\n",
    "print(\"This array has\", matrix.ndim, \"dimensions\")\n",
    "\n",
    "#3 Dimenions\n",
    "\n",
    "matrix2 = [\n",
    "    [\n",
    "        [1,2,3],\n",
    "        [4,5,6],\n",
    "        [7,8,9]\n",
    "    ],\n",
    "    [\n",
    "        [10,11,12],\n",
    "        [13,14,15],\n",
    "        [16,17,18]\n",
    "    ]\n",
    "]\n",
    "\n",
    "matrix2 = np.array(matrix2)\n",
    "\n",
    "print(matrix2)\n",
    "print(\"This array has\", matrix2.ndim, \"dimensions\")\n",
    "\n",
    "# 4 Dimensions\n",
    "tensor = [\n",
    "    [\n",
    "        [\n",
    "            [1,2,3],\n",
    "            [4,5,6]\n",
    "        ],\n",
    "        [\n",
    "            [7,8,9],\n",
    "            [10,11,12]\n",
    "        ]\n",
    "    ],\n",
    "    [\n",
    "        [\n",
    "            [13,14,15],\n",
    "            [16,17,18]\n",
    "        ],\n",
    "        [\n",
    "            [19,20,21],\n",
    "            [22,23,24]\n",
    "        ]\n",
    "    ]\n",
    "]\n",
    "\n",
    "tensor = np.array(tensor)\n",
    "print(tensor)\n",
    "print(\"This array has\", tensor.ndim, \"dimensions\")"
   ]
  },
  {
   "cell_type": "markdown",
   "metadata": {},
   "source": [
    "Establishing, adding, and deleting dimensions"
   ]
  },
  {
   "cell_type": "code",
   "execution_count": 22,
   "metadata": {},
   "outputs": [
    {
     "name": "stdout",
     "output_type": "stream",
     "text": [
      "[[[5 6 7]]]\n",
      "3\n",
      "[[9 8 7]]\n",
      "2\n",
      "[5 6 7]\n",
      "1\n"
     ]
    }
   ],
   "source": [
    "#To format an arraay with an specific number of dimensions\n",
    "array1 = np.array([5,6,7], ndmin=3)\n",
    "print(array1)\n",
    "print(array1.ndim)\n",
    "\n",
    "#To add a dimension\n",
    "array2 = np.expand_dims([9,8,7], axis=0)\n",
    "print(array2)\n",
    "print(array2.ndim)\n",
    "\n",
    "#To fit the dimensions to the existing data\n",
    "array3 = np.squeeze(array1)\n",
    "print(array3)\n",
    "print(array3.ndim)\n"
   ]
  },
  {
   "cell_type": "markdown",
   "metadata": {},
   "source": [
    "Shape"
   ]
  },
  {
   "cell_type": "code",
   "execution_count": 43,
   "metadata": {},
   "outputs": [
    {
     "name": "stdout",
     "output_type": "stream",
     "text": [
      "[[2.05 2.46 1.44]\n",
      " [1.88 1.81 5.53]\n",
      " [5.26 2.12 3.68]]\n",
      "The shape of the array is (3, 3)\n",
      "[[ 1.31  5.67  1.81  8.18]\n",
      " [15.3  16.64 17.99  5.53]\n",
      " [10.7  17.08  8.93 12.71]]\n",
      "The shape of the array is (3, 4)\n",
      "[[ 1.31  5.67  1.81  8.18 15.3  16.64 17.99  5.53 10.7  17.08  8.93 12.71]]\n",
      "The shape of the array is (1, 12)\n",
      "[[ 1.31  5.67  1.81  8.18 15.3  16.64]\n",
      " [17.99  5.53 10.7  17.08  8.93 12.71]]\n",
      "The shape of the array is (2, 6)\n",
      "[[ 1.31  5.67  1.81  8.18]\n",
      " [15.3  16.64 17.99  5.53]\n",
      " [10.7  17.08  8.93 12.71]]\n",
      "The shape of the array is (3, 4)\n",
      "[[ 1.31  5.67  1.81  8.18]\n",
      " [15.3  16.64 17.99  5.53]\n",
      " [10.7  17.08  8.93 12.71]]\n",
      "The shape of the array is (3, 4)\n",
      "[[ 1.31  5.67  1.81  8.18]\n",
      " [15.3  16.64 17.99  5.53]\n",
      " [10.7  17.08  8.93 12.71]]\n",
      "The shape of the array is (3, 4)\n"
     ]
    }
   ],
   "source": [
    "import numpy as np\n",
    "\n",
    "#Establishing a random array, with the range from 1 to 10, with 2 dimensions, with the shape of 3,3\n",
    "arr1 = np.random.uniform(1,10, (3,3))\n",
    "arr1 = np.round_(arr1, decimals = 2)\n",
    "print(arr1)\n",
    "print(\"The shape of the array is\", arr1.shape)\n",
    "\n",
    "arr2 = np.random.uniform(1,20, (3,4))\n",
    "arr2 = np.round_(arr2,decimals=2)\n",
    "print(arr2)\n",
    "print(\"The shape of the array is\", arr2.shape)\n",
    "\n",
    "#Reshaping arr2\n",
    "arr2 = arr2.reshape(1,12)\n",
    "print(arr2)\n",
    "print(\"The shape of the array is\", arr2.shape)\n",
    "\n",
    "arr2 = arr2.reshape(2,6)\n",
    "print(arr2)\n",
    "print(\"The shape of the array is\", arr2.shape)\n",
    "\n",
    "#There are 2 ways to reshape, the C way, and the Fortrand way, and we can establish those ways\n",
    "arr2 = np.reshape(arr2,(3,4), \"C\")\n",
    "print(arr2)\n",
    "print(\"The shape of the array is\", arr2.shape)\n",
    "\n",
    "arr2 = np.reshape(arr2,(3,4), \"F\")\n",
    "print(arr2)\n",
    "print(\"The shape of the array is\", arr2.shape)\n",
    "\n",
    "arr2 = np.reshape(arr2,(3,4), \"A\")\n",
    "print(arr2)\n",
    "print(\"The shape of the array is\", arr2.shape)\n",
    "\n"
   ]
  },
  {
   "cell_type": "code",
   "execution_count": 20,
   "metadata": {},
   "outputs": [
    {
     "name": "stdout",
     "output_type": "stream",
     "text": [
      "[[ 4 16  2  6  5]\n",
      " [12 12  7  1 18]]\n",
      "The maximun value in the array is 18\n",
      "The maximun value in the array by column is [12 16  7  6 18]\n",
      "The maximun value in the array by row is [16 18]\n",
      "The position of the maximun valie in the array is 9\n",
      "The minimun value in the array is 1\n",
      "The minimun value in the array by column is [ 4 12  2  1  5]\n",
      "The minimun value in the array by row is [2 1]\n",
      "The position of the minimun value in the array is 8\n"
     ]
    }
   ],
   "source": [
    "#Maximun and minimun\n",
    "import numpy as np\n",
    "import random\n",
    "\n",
    "arr1 = np.random.randint(1,20,(2,5))\n",
    "print(arr1)\n",
    "\n",
    "#get max\n",
    "print(\"The maximun value in the array is\",arr1.max())\n",
    "\n",
    "#get max by column and row\n",
    "print(\"The maximun value in the array by column is\", arr1.max(0))\n",
    "print(\"The maximun value in the array by row is\", arr1.max(1))\n",
    "\n",
    "#the position of the max value in the index\n",
    "print(\"The position of the maximun valie in the array is\", arr1.argmax())\n",
    "\n",
    "#get min\n",
    "print(\"The minimun value in the array is\",arr1.min())\n",
    "\n",
    "#get min by column and row\n",
    "print(\"The minimun value in the array by column is\", arr1.min(0))\n",
    "print(\"The minimun value in the array by row is\", arr1.min(1))\n",
    "\n",
    "#the position of the min value in the index\n",
    "print(\"The position of the minimun value in the array is\", arr1.argmin())"
   ]
  },
  {
   "cell_type": "code",
   "execution_count": 40,
   "metadata": {},
   "outputs": [
    {
     "name": "stdout",
     "output_type": "stream",
     "text": [
      "[[14 17  1 14]\n",
      " [ 5 18  4 14]\n",
      " [ 7  3 11  1]]\n",
      "The range of the array is 17\n",
      "The range in every column is [ 9 15 10 13]\n",
      "The range in every row is [16 14 10]\n",
      "The percentile 25 value of the array is 3.75\n",
      "The values sorted are [[ 1 14 14 17]\n",
      " [ 4  5 14 18]\n",
      " [ 1  3  7 11]]\n",
      "The values sorted trough columns are [[ 5  3  1  1]\n",
      " [ 7 17  4 14]\n",
      " [14 18 11 14]]\n",
      "The values sorted trough rows are [[ 1 14 14 17]\n",
      " [ 4  5 14 18]\n",
      " [ 1  3  7 11]]\n",
      "The median of the array is 9.0\n",
      "The mean of the array is 9.08\n",
      "The standard deviation is 6.01\n",
      "The variance is 36.08\n"
     ]
    }
   ],
   "source": [
    "#Range function (called ptp, pick to pick)\n",
    "import numpy as np\n",
    "\n",
    "arr1 = np.random.randint(1,20,(3,4))\n",
    "print(arr1)\n",
    "\n",
    "#Range, difference between the max value and the min value\n",
    "print(\"The range of the array is\", arr1.ptp())\n",
    "\n",
    "#Range in every column, and row\n",
    "print(\"The range in every column is\",arr1.ptp(0))\n",
    "print(\"The range in every row is\",arr1.ptp(1))\n",
    "\n",
    "#We can apply a function that evokes the percentiles\n",
    "print(\"The percentile 25 value of the array is\",np.percentile(arr1,25))\n",
    "\n",
    "#We can apply a function that sorts the values\n",
    "print(\"The values sorted are\", np.sort(arr1))\n",
    "print(\"The values sorted trough columns are\", np.sort(arr1,0))\n",
    "print(\"The values sorted trough rows are\", np.sort(arr1,1))\n",
    "\n",
    "#Median function\n",
    "print(\"The median of the array is\", np.median(arr1))\n",
    "\n",
    "#Mean function\n",
    "print(\"The mean of the array is\", np.round_(np.mean(arr1), decimals=2))\n",
    "\n",
    "#The standard deviation\n",
    "print(\"The standard deviation is\", np.round_(np.std(arr1), decimals=2))\n",
    "\n",
    "#Variance\n",
    "print(\"The variance is\", np.round_(np.var(arr1), decimals=2))"
   ]
  },
  {
   "cell_type": "markdown",
   "metadata": {},
   "source": [
    "**Copy function**  \n",
    "This function is fundamental because this allow us to leave the copy array unchanged. If we modified the copy array, that can be troubled because we can lose data"
   ]
  },
  {
   "cell_type": "code",
   "execution_count": 59,
   "metadata": {},
   "outputs": [
    {
     "name": "stdout",
     "output_type": "stream",
     "text": [
      "This is the original array [1 2 3 4 5]\n",
      "This is a slice of the original array, we wanna acces [1 2 3]\n",
      "This is the slice of the original array, modified [0 0 0]\n",
      "If we try to access the original one, we can see it has been modified too [0 0 0 4 5]\n",
      "This is another original array [1 2 3 4 5]\n",
      "This is a copy of the original array [1 2 3 4 5]\n",
      "Now we can modified the copied array without worries about losing data in the original one\n"
     ]
    }
   ],
   "source": [
    "import numpy as np\n",
    "\n",
    "arr1 = [1,2,3,4,5]\n",
    "arr1 = np.array(arr1)\n",
    "print(\"This is the original array\", arr1)\n",
    "\n",
    "arr2 = arr1[0:3]\n",
    "print(\"This is a slice of the original array, we wanna acces\",arr2)\n",
    "\n",
    "arr2[:] = 0\n",
    "print(\"This is the slice of the original array, modified\", arr2)\n",
    "\n",
    "print(\"If we try to access the original one, we can see it has been modified too\", arr1)\n",
    "\n",
    "arr3 = [1,2,3,4,5]\n",
    "arr3 = np.array(arr3)\n",
    "print(\"This is another original array\", arr3)\n",
    "\n",
    "arr4 = arr3.copy()\n",
    "print(\"This is a copy of the original array\", arr4)\n",
    "\n",
    "print(\"Now we can modified the copied array without worries about losing data in the original one\")"
   ]
  },
  {
   "cell_type": "markdown",
   "metadata": {},
   "source": [
    "### Numpy Conditionals  \n",
    "\n",
    "Numpy allows you to apply conditional to the arrays"
   ]
  },
  {
   "cell_type": "code",
   "execution_count": 19,
   "metadata": {},
   "outputs": [
    {
     "name": "stdout",
     "output_type": "stream",
     "text": [
      "These is the original array [[86 42 99]\n",
      " [63 59 27]\n",
      " [51 58 37]]\n",
      "Applying a conditional to return values greater than 20 [[ True  True  True]\n",
      " [ True  True  True]\n",
      " [ True  True  True]]\n",
      "[[ True  True  True]\n",
      " [ True  True  True]\n",
      " [ True  True  True]]\n",
      "This is an array with 2 conditionals applied [[False  True False]\n",
      " [ True  True  True]\n",
      " [ True  True  True]]\n",
      "[[False False  True]\n",
      " [ True  True  True]\n",
      " [ True False  True]]\n"
     ]
    }
   ],
   "source": [
    "import numpy as np\n",
    "arr1 = np.random.randint(1,100,(3,3))\n",
    "print(\"These is the original array\",arr1)\n",
    "\n",
    "#When applying a conditional, numpy return you a boolean\n",
    "print(\"Applying a conditional to return values greater than 20\",arr1 > 20)\n",
    "\n",
    "#Saving the conditional in a new array\n",
    "great_20 = arr1 > 20\n",
    "print(great_20)\n",
    "\n",
    "#Two conditionals\n",
    "print(\"This is an array with 2 conditionals applied\",(arr1 > 20) & (arr1 < 80))\n",
    "\n",
    "#Odd numbers conditional\n",
    "\n",
    "print(arr1 % 2 != 0)\n",
    "\n"
   ]
  },
  {
   "cell_type": "markdown",
   "metadata": {},
   "source": [
    "Arithmetic Operations with numpy"
   ]
  },
  {
   "cell_type": "code",
   "execution_count": 11,
   "metadata": {},
   "outputs": [
    {
     "name": "stdout",
     "output_type": "stream",
     "text": [
      "[[3 1 6 8]]\n",
      "We can do sum [[ 5  3  8 10]]\n",
      "We can do rest [[-2 -4  1  3]]\n",
      "We can do multiplication [[ 6  2 12 16]]\n",
      "We can do division [[1.5 0.5 3.  4. ]]\n",
      "Sum of the same array [[ 6  2 12 16]]\n",
      "array 2 [[9 8 2 4]\n",
      " [4 2 1 4]\n",
      " [4 3 4 6]]\n",
      "Array 3 [[5 7 8 5]\n",
      " [7 8 3 8]\n",
      " [8 5 9 3]]\n",
      "arr2 * arr3 [[45 56 16 20]\n",
      " [28 16  3 32]\n",
      " [32 15 36 18]]\n"
     ]
    }
   ],
   "source": [
    "#We can do the basic operation in an array\n",
    "import numpy as np\n",
    "\n",
    "arr1 = np.random.randint(1,10,(1,4))\n",
    "print(arr1)\n",
    "\n",
    "print(\"We can do sum\", arr1 + 2)\n",
    "print(\"We can do rest\", arr1 - 5)\n",
    "print(\"We can do multiplication\", arr1 * 2)\n",
    "print(\"We can do division\", arr1 / 2)\n",
    "\n",
    "#And we even can do operation between arrays itself\n",
    "\n",
    "print(\"Sum of the same array\", arr1 + arr1)\n",
    "\n",
    "arr2 = np.random.randint(1,10,(3,4))\n",
    "print(\"array 2\", arr2)\n",
    "\n",
    "arr3 = np.random.randint(1,10,(3,4))\n",
    "print(\"Array 3\", arr3)\n",
    "\n",
    "#Multiplying arr2 and arr3\n",
    "print(\"arr2 * arr3\" ,arr2 * arr3)"
   ]
  },
  {
   "cell_type": "code",
   "execution_count": 3,
   "metadata": {},
   "outputs": [
    {
     "name": "stdout",
     "output_type": "stream",
     "text": [
      "[1. 1. 1. 1. 1.]\n"
     ]
    }
   ],
   "source": [
    "import numpy as np\n",
    "\n",
    "x = np.empty(5)\n",
    "print(x)"
   ]
  }
 ],
 "metadata": {
  "interpreter": {
   "hash": "31f2aee4e71d21fbe5cf8b01ff0e069b9275f58929596ceb00d14d90e3e16cd6"
  },
  "kernelspec": {
   "display_name": "Python 3.8.10 64-bit",
   "language": "python",
   "name": "python3"
  },
  "language_info": {
   "codemirror_mode": {
    "name": "ipython",
    "version": 3
   },
   "file_extension": ".py",
   "mimetype": "text/x-python",
   "name": "python",
   "nbconvert_exporter": "python",
   "pygments_lexer": "ipython3",
   "version": "3.8.10"
  },
  "orig_nbformat": 4
 },
 "nbformat": 4,
 "nbformat_minor": 2
}
