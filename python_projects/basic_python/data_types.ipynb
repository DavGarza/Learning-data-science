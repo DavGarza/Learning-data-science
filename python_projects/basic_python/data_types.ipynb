{
 "cells": [
  {
   "cell_type": "markdown",
   "metadata": {},
   "source": [
    "# Iterable Data Types\n",
    "\n",
    "Python has 4 built-in data types used to store collection of data  \n",
    "\n",
    "* List\n",
    "* Tuple\n",
    "* Set\n",
    "* Dictionary"
   ]
  },
  {
   "cell_type": "markdown",
   "metadata": {},
   "source": [
    "And each of 4 can have 3 set of variables  \n",
    "* Ordered: It means if the type has specific order\n",
    "* Changeable: It means whether the type can be changed or is inmutable \n",
    "* Allow Duplicates: It means that the type can allow two data can have the same value"
   ]
  },
  {
   "cell_type": "markdown",
   "metadata": {},
   "source": [
    "Next it is specified the variables of each data type  \n",
    "\n",
    "| Data Types | List | Tuple | Set | Dictionary |\n",
    "| :-: | :-: | :-: | :-: | :-: |\n",
    "| Ordered | YES | YES | NO | YES |\n",
    "| Changable | YES | NO | NO | YES |\n",
    "| Duplicates | YES | YES | NO | NO |"
   ]
  }
 ],
 "metadata": {
  "interpreter": {
   "hash": "15208e11845542cfb28df44cf6511d0c625a5824a77b490c800770b6de9dd612"
  },
  "kernelspec": {
   "display_name": "Python 3.8.10 ('venv': venv)",
   "language": "python",
   "name": "python3"
  },
  "language_info": {
   "name": "python",
   "version": "3.8.10"
  },
  "orig_nbformat": 4
 },
 "nbformat": 4,
 "nbformat_minor": 2
}
