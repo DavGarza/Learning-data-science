{
 "cells": [
  {
   "cell_type": "markdown",
   "metadata": {},
   "source": [
    "# Object Oriented Programming"
   ]
  },
  {
   "cell_type": "markdown",
   "metadata": {},
   "source": [
    "## I Unified Modeling Language (UML)"
   ]
  },
  {
   "cell_type": "markdown",
   "metadata": {},
   "source": [
    "**what is object oriented progamming?**  \n",
    "\n",
    "It is a methodology of programming that has the objective of creating faster, cleaner, and efficient code."
   ]
  },
  {
   "cell_type": "markdown",
   "metadata": {},
   "source": [
    "The first step for object oriented programming is to identify the object  \n",
    "An object will always be a **noun**, and it can be **physical or conceptual**  "
   ]
  },
  {
   "cell_type": "markdown",
   "metadata": {},
   "source": [
    "Once you have identified an the object, you can identify a class  \n",
    "\n",
    "The definition of a class is: A group of objects that share properties and behaviors  \n",
    "\n",
    "All objects have **properties** and **behavior**  \n",
    "\n",
    "And the process of identifying a class is called *Abstraction*"
   ]
  },
  {
   "cell_type": "markdown",
   "metadata": {},
   "source": [
    "For example: A **users** in amazon store  \n",
    "\n",
    "The properties of the class are\n",
    "* Id\n",
    "* Gender\n",
    "* Age\n",
    "* Country  \n",
    "\n",
    "The behavior of the class are\n",
    "* Log-in\n",
    "* Log-out\n",
    "* Buy\n",
    "* Sell\n",
    "\n",
    "Examples:  \n",
    "**Object_1**\n",
    "* Id: 1001 (property)\n",
    "* Gender: Female (property)\n",
    "* Age: 44 (property)\n",
    "* Country: India (property)\n",
    "* Bougth: Pencil Box (behavior) \n",
    "\n",
    "**Object_2**\n",
    "* Id: 1002 (property)\n",
    "* Gender: Male (property)\n",
    "* Age: 55 (property)\n",
    "* Country: Brazil (property)\n",
    "* Sold: Wallets (behavior)\n",
    "\n",
    "\n",
    "\n"
   ]
  },
  {
   "cell_type": "markdown",
   "metadata": {},
   "source": [
    "Structure of class, objects, properties, and behavior  \n",
    "\n",
    "| Class |\n",
    "| :-: |\n",
    "| Object_1: property |\n",
    "| Behavior_1: |\n",
    "\n",
    " "
   ]
  },
  {
   "cell_type": "markdown",
   "metadata": {},
   "source": [
    "### Defyning class, object, properties and behavior"
   ]
  },
  {
   "cell_type": "code",
   "execution_count": null,
   "metadata": {},
   "outputs": [],
   "source": [
    "class person:\n",
    "    name = \"X\"\n",
    "    def walk():\n",
    "        print(name)"
   ]
  },
  {
   "cell_type": "markdown",
   "metadata": {},
   "source": [
    "### Creating classes with examples of Uber\n",
    "\n",
    "The uber example has the following classes  \n",
    "\n",
    "* Account\n",
    "* Car\n",
    "* Route\n",
    "* Payment\n",
    "\n",
    "Next we will define those classes with their properties in code"
   ]
  },
  {
   "cell_type": "code",
   "execution_count": null,
   "metadata": {},
   "outputs": [],
   "source": [
    "class Account:\n",
    "    id = int\n",
    "    name = str\n",
    "    document = str\n",
    "    email = str\n",
    "    password = str\n"
   ]
  },
  {
   "cell_type": "code",
   "execution_count": null,
   "metadata": {},
   "outputs": [],
   "source": [
    "class Car:\n",
    "    id = int\n",
    "    license = str\n",
    "    driver = str\n",
    "    passenger = str"
   ]
  },
  {
   "cell_type": "code",
   "execution_count": null,
   "metadata": {},
   "outputs": [],
   "source": [
    "class Route:\n",
    "    id = int\n",
    "    start = []\n",
    "    end = []"
   ]
  },
  {
   "cell_type": "code",
   "execution_count": null,
   "metadata": {},
   "outputs": [],
   "source": [
    "class Payment:\n",
    "    id = int"
   ]
  },
  {
   "cell_type": "markdown",
   "metadata": {},
   "source": [
    "In the example before, the objects are statict, and cannot be used, in order to bring the objects alive, the next code need to be written"
   ]
  },
  {
   "cell_type": "code",
   "execution_count": 20,
   "metadata": {},
   "outputs": [
    {
     "name": "stdout",
     "output_type": "stream",
     "text": [
      "{'id': 25121642, 'license': 'WCL1656', 'driver': 'Isaac Newton', 'passenger': 'Leibniz'}\n",
      "{'id': 14031879, 'license': 'ULM07', 'driver': 'Albert Einsterin', 'passenger': 'Niels Bohr'}\n"
     ]
    }
   ],
   "source": [
    "class Car:\n",
    "    id = int\n",
    "    license = str\n",
    "    driver = str\n",
    "    passenger = str\n",
    "\n",
    "car = Car()\n",
    "car.id = 25121642\n",
    "car.license = \"WCL1656\"\n",
    "car.driver = \"Isaac Newton\"\n",
    "car.passenger = \"Leibniz\"\n",
    "\n",
    "print(vars(car))\n",
    "\n",
    "car2 = Car()\n",
    "car2.id = 14031879\n",
    "car2.license = \"ULM07\"\n",
    "car2.driver = \"Albert Einsterin\"\n",
    "car2.passenger = \"Niels Bohr\"\n",
    "\n",
    "print(vars(car2))\n"
   ]
  },
  {
   "cell_type": "markdown",
   "metadata": {},
   "source": [
    "How to do inheritance in code"
   ]
  },
  {
   "cell_type": "code",
   "execution_count": 43,
   "metadata": {},
   "outputs": [
    {
     "name": "stdout",
     "output_type": "stream",
     "text": [
      "{'__module__': '__main__', '__init__': <function UberX.__init__ at 0x7f5eb0e4e160>, '__doc__': None, 'id': 923424, 'license': 'er32rg', 'driver': 'John', 'passenger': 'Michael', 'brand': 'Jaguar', 'model': 'XE'}\n"
     ]
    }
   ],
   "source": [
    "class Car:\n",
    "    def __init__(self,id,license,driver,passenger):\n",
    "        self.id = id\n",
    "        self.license = license\n",
    "        self.driver = driver\n",
    "        self.passenger = passenger\n",
    "        id = int\n",
    "        license = str\n",
    "        driver = str\n",
    "        passenger = str\n",
    "\n",
    "class UberX(Car):\n",
    "\n",
    "    def __init__(id, license, driver, passenger, brand, model):\n",
    "        super.__init__(self,id,license, driver,passenger)\n",
    "        self.brand = brand\n",
    "        self.model = model\n",
    "        brand = str\n",
    "        model = str\n",
    "\n",
    "\n",
    "x = UberX\n",
    "x.id = 923424\n",
    "x.license = \"er32rg\"\n",
    "x.driver = \"John\"\n",
    "x.passenger = \"Michael\"\n",
    "x.brand = \"Jaguar\"\n",
    "x.model = \"XE\"\n",
    "\n",
    "print(vars(x))\n"
   ]
  }
 ],
 "metadata": {
  "interpreter": {
   "hash": "916dbcbb3f70747c44a77c7bcd40155683ae19c65e1c03b4aa3499c5328201f1"
  },
  "kernelspec": {
   "display_name": "Python 3.8.10 64-bit",
   "language": "python",
   "name": "python3"
  },
  "language_info": {
   "codemirror_mode": {
    "name": "ipython",
    "version": 3
   },
   "file_extension": ".py",
   "mimetype": "text/x-python",
   "name": "python",
   "nbconvert_exporter": "python",
   "pygments_lexer": "ipython3",
   "version": "3.8.10"
  },
  "orig_nbformat": 4
 },
 "nbformat": 4,
 "nbformat_minor": 2
}
