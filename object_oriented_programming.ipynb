{
 "cells": [
  {
   "cell_type": "markdown",
   "metadata": {},
   "source": [
    "# Object Oriented Programming"
   ]
  },
  {
   "cell_type": "markdown",
   "metadata": {},
   "source": [
    "## I Unified Modeling Language (UML)"
   ]
  },
  {
   "cell_type": "markdown",
   "metadata": {},
   "source": [
    "**what is object oriented progamming?**  \n",
    "\n",
    "It is a methodology of programming that has the objective of creating faster, cleaner, and efficient code."
   ]
  },
  {
   "cell_type": "markdown",
   "metadata": {},
   "source": [
    "The first step for object oriented programming is to identify the object  \n",
    "An object will always be a **noun**, and it can be **physical or conceptual**  "
   ]
  },
  {
   "cell_type": "markdown",
   "metadata": {},
   "source": [
    "Once you have identified an the object, you can identify a class  \n",
    "\n",
    "The definition of a class is: A group of objects that share properties and behaviors  \n",
    "\n",
    "All objects have **properties** and **behavior**  \n",
    "\n",
    "And the process of identifying a class is called **Abstraction**\n",
    "This is the 1st concept out of 4th of OOP"
   ]
  },
  {
   "cell_type": "markdown",
   "metadata": {},
   "source": [
    "For example: A **users** in amazon store  \n",
    "\n",
    "The properties of the class are\n",
    "* Id\n",
    "* Gender\n",
    "* Age\n",
    "* Country  \n",
    "\n",
    "The behavior of the class are\n",
    "* Log-in\n",
    "* Log-out\n",
    "* Buy\n",
    "* Sell\n",
    "\n",
    "Examples:  \n",
    "**Object_1**\n",
    "* Id: 1001 (property)\n",
    "* Gender: Female (property)\n",
    "* Age: 44 (property)\n",
    "* Country: India (property)\n",
    "* Bougth: Pencil Box (behavior) \n",
    "\n",
    "**Object_2**\n",
    "* Id: 1002 (property)\n",
    "* Gender: Male (property)\n",
    "* Age: 55 (property)\n",
    "* Country: Brazil (property)\n",
    "* Sold: Wallets (behavior)\n",
    "\n",
    "\n",
    "\n"
   ]
  },
  {
   "cell_type": "markdown",
   "metadata": {},
   "source": [
    "Structure of class, objects, properties, and behavior  \n",
    "\n",
    "| Class |\n",
    "| :-: |\n",
    "| Object_1: property |\n",
    "| Behavior_1: |\n",
    "\n",
    " "
   ]
  },
  {
   "cell_type": "markdown",
   "metadata": {},
   "source": [
    "### Defyning class, object, properties and behavior"
   ]
  },
  {
   "cell_type": "code",
   "execution_count": null,
   "metadata": {},
   "outputs": [],
   "source": [
    "class person:\n",
    "    name = \"X\"\n",
    "    def walk():\n",
    "        print(name)"
   ]
  },
  {
   "cell_type": "markdown",
   "metadata": {},
   "source": [
    "### Creating classes with examples of Uber\n",
    "\n",
    "The uber example has the following classes  \n",
    "\n",
    "* Account\n",
    "* Car\n",
    "* Route\n",
    "* Payment\n",
    "\n",
    "Next we will define those classes with their properties in code"
   ]
  },
  {
   "cell_type": "code",
   "execution_count": null,
   "metadata": {},
   "outputs": [],
   "source": [
    "class Account:\n",
    "    id = int\n",
    "    name = str\n",
    "    document = str\n",
    "    email = str\n",
    "    password = str\n"
   ]
  },
  {
   "cell_type": "code",
   "execution_count": null,
   "metadata": {},
   "outputs": [],
   "source": [
    "class Car:\n",
    "    id = int\n",
    "    license = str\n",
    "    driver = str\n",
    "    passenger = str"
   ]
  },
  {
   "cell_type": "code",
   "execution_count": null,
   "metadata": {},
   "outputs": [],
   "source": [
    "class Route:\n",
    "    id = int\n",
    "    start = []\n",
    "    end = []"
   ]
  },
  {
   "cell_type": "code",
   "execution_count": null,
   "metadata": {},
   "outputs": [],
   "source": [
    "class Payment:\n",
    "    id = int"
   ]
  },
  {
   "cell_type": "markdown",
   "metadata": {},
   "source": [
    "In the example before, the objects are statict, and cannot be used, in order to bring the objects alive, the next code need to be written"
   ]
  },
  {
   "cell_type": "code",
   "execution_count": null,
   "metadata": {},
   "outputs": [],
   "source": [
    "class Car:\n",
    "    id = int\n",
    "    license = str\n",
    "    driver = str\n",
    "    passenger = str\n",
    "\n",
    "car = Car()\n",
    "car.id = 25121642\n",
    "car.license = \"WCL1656\"\n",
    "car.driver = \"Isaac Newton\"\n",
    "car.passenger = \"Leibniz\"\n",
    "\n",
    "print(vars(car))\n",
    "\n",
    "car2 = Car()\n",
    "car2.id = 14031879\n",
    "car2.license = \"ULM07\"\n",
    "car2.driver = \"Albert Einsterin\"\n",
    "car2.passenger = \"Niels Bohr\"\n",
    "\n",
    "print(vars(car2))\n"
   ]
  },
  {
   "cell_type": "markdown",
   "metadata": {},
   "source": [
    "The next concept is **Inheritance**  \n",
    "\n",
    "Inheritance is the pass of propoerties and/or behavior from a father class, to a child class, an example is set  \n",
    "This is the 2dn out of 4th concept of OOP"
   ]
  },
  {
   "cell_type": "code",
   "execution_count": null,
   "metadata": {},
   "outputs": [],
   "source": [
    "class Car:\n",
    "    def __init__(self,id,license,driver,passenger):\n",
    "        self.id = id\n",
    "        self.license = license\n",
    "        self.driver = driver\n",
    "        self.passenger = passenger\n",
    "        id = int\n",
    "        license = str\n",
    "        driver = str\n",
    "        passenger = str\n",
    "\n",
    "class UberX(Car):\n",
    "\n",
    "    def __init__(id, license, driver, passenger, brand, model):\n",
    "        super.__init__(self,id,license, driver,passenger)\n",
    "        self.brand = brand\n",
    "        self.model = model\n",
    "        brand = str\n",
    "        model = str\n",
    "\n",
    "\n",
    "x = UberX\n",
    "x.id = 923424\n",
    "x.license = \"er32rg\"\n",
    "x.driver = \"John\"\n",
    "x.passenger = \"Michael\"\n",
    "x.brand = \"Jaguar\"\n",
    "x.model = \"XE\"\n",
    "\n",
    "print(vars(x))\n"
   ]
  },
  {
   "cell_type": "markdown",
   "metadata": {},
   "source": [
    "The next concept is **Encapsulment**  \n",
    "Encapsulment is the packing and/or hiding of data and functions, you can hide the internal state of the object from the outside  \n",
    "encapsulemnt is the 3rd out of 4th conpcetps of OOP"
   ]
  },
  {
   "cell_type": "code",
   "execution_count": null,
   "metadata": {},
   "outputs": [],
   "source": [
    "class Counter:\n",
    "    def __init__(self):\n",
    "        self.current = 0\n",
    "    \n",
    "    def increment(self):\n",
    "        self.current += 1\n",
    "    \n",
    "    def value(self):\n",
    "        return self.current\n",
    "\n",
    "    def reset(self):\n",
    "        self.current = 0\n",
    "    \n",
    "counter = Counter()\n",
    "\n",
    "\n",
    "counter.increment()\n",
    "counter.increment()\n",
    "counter.increment()\n",
    "\n",
    "print(counter.value())\n"
   ]
  },
  {
   "cell_type": "code",
   "execution_count": null,
   "metadata": {},
   "outputs": [],
   "source": [
    "class Counter:\n",
    "    def __init__(self):\n",
    "        self.current = 0\n",
    "\n",
    "    def increment(self):\n",
    "        self.current += 1\n",
    "\n",
    "    def value(self):\n",
    "        return self.current\n",
    "\n",
    "    def reset(self):\n",
    "        self.current = 0\n",
    "\n",
    "counter = Counter()\n",
    "\n",
    "counter.increment()\n",
    "counter.increment()\n",
    "counter.current = -999\n",
    "\n",
    "print(counter.value())\n"
   ]
  },
  {
   "cell_type": "markdown",
   "metadata": {},
   "source": [
    "In the example above, even do the result of counter.increment should be 2, you could access counter.current from outside, and change the value.  \n",
    "Encapsulment works for this, in order to avoid outside change and keep it statitc.  \n",
    "\n",
    "And you stablish encapsulment by applying a double underscore: __attribute"
   ]
  },
  {
   "cell_type": "code",
   "execution_count": null,
   "metadata": {},
   "outputs": [],
   "source": [
    "class Counter:\n",
    "    def __init__(self):\n",
    "        self.__current = 0\n",
    "\n",
    "    def increment(self):\n",
    "        self.__current += 1\n",
    "\n",
    "    def value(self):\n",
    "        return self.__current\n",
    "\n",
    "    def reset(self):\n",
    "        self.__current = 0\n",
    "\n",
    "\n"
   ]
  },
  {
   "cell_type": "markdown",
   "metadata": {},
   "source": [
    "The last concept is called **Polimorphism**  \n",
    "It refers literally to different forms, but for programming, it means to the use of a single type entity (method,operator, object) to represent different type of scenaraios. In other words, it means that you can tranform a single entity to do or be different things"
   ]
  },
  {
   "cell_type": "code",
   "execution_count": null,
   "metadata": {},
   "outputs": [],
   "source": [
    "class cat:\n",
    "    def __init__(self, name, age):\n",
    "        self.name = name\n",
    "        self.age = age\n",
    "    \n",
    "    def say_hi(self):\n",
    "        print(\"Hello i am a cat and my name is\", self.name, \"and i am\", self.age, \"years old\")\n",
    "    \n",
    "    def make_sound(self):\n",
    "        print(\"Meow\")\n",
    "    \n",
    "class dog:\n",
    "    def __init__(self, name, age):\n",
    "        self.name = name\n",
    "        self.age = age\n",
    "    \n",
    "    def say_hi(self):\n",
    "        print(\"Hello i am a dog and my name is\", self.name, \"and i am \", self.age, \"years old\")\n",
    "    \n",
    "    def make_sound(self):\n",
    "        print(\"Bark\")\n",
    "\n",
    "cat1 = cat(\"Wishkers\", 5)\n",
    "dog1 = dog(\"Bella\", 3)\n",
    "\n",
    "for animal in (cat1,dog1):\n",
    "    animal.say_hi()\n",
    "    animal.make_sound()\n"
   ]
  }
 ],
 "metadata": {
  "interpreter": {
   "hash": "916dbcbb3f70747c44a77c7bcd40155683ae19c65e1c03b4aa3499c5328201f1"
  },
  "kernelspec": {
   "display_name": "Python 3.8.10 64-bit",
   "language": "python",
   "name": "python3"
  },
  "language_info": {
   "codemirror_mode": {
    "name": "ipython",
    "version": 3
   },
   "file_extension": ".py",
   "mimetype": "text/x-python",
   "name": "python",
   "nbconvert_exporter": "python",
   "pygments_lexer": "ipython3",
   "version": "3.8.10"
  },
  "orig_nbformat": 4
 },
 "nbformat": 4,
 "nbformat_minor": 2
}
