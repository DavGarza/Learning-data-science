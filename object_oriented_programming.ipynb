{
 "cells": [
  {
   "cell_type": "markdown",
   "metadata": {},
   "source": [
    "# Object Oriented Programming"
   ]
  },
  {
   "cell_type": "markdown",
   "metadata": {},
   "source": [
    "## I Unified Modeling Language (UML)"
   ]
  },
  {
   "cell_type": "markdown",
   "metadata": {},
   "source": [
    "The first step for object oriented programming is to identify the object  \n",
    "An object will always be a **noun**, and it can be **physical or conceptual**  "
   ]
  },
  {
   "cell_type": "markdown",
   "metadata": {},
   "source": [
    "Once you have identified an the object, you can identify a class  \n",
    "\n",
    "The definition of a class is: A group of objects that share properties and behaviors  \n",
    "\n",
    "All objects have **properties** and **behavior**  \n",
    "\n",
    "And the process of identifying a class is called *Abstraction*"
   ]
  },
  {
   "cell_type": "markdown",
   "metadata": {},
   "source": [
    "For example: A **users** in amazon store  \n",
    "\n",
    "The properties of the objects are\n",
    "* Id\n",
    "* Gender\n",
    "* Age\n",
    "* Country  \n",
    "\n",
    "The behavior of the class are\n",
    "* Log-in\n",
    "* Log-out\n",
    "* Buy\n",
    "* Sell\n",
    "\n",
    "Examples:  \n",
    "**Object_1**\n",
    "* Id: 1001 (property)\n",
    "* Gender: Female (property)\n",
    "* Age: 44 (property)\n",
    "* Country: India (property)\n",
    "* Bougth: Pencil Box (behavior) \n",
    "\n",
    "**Object_2**\n",
    "* Id: 1002 (property)\n",
    "* Gender: Male (property)\n",
    "* Age: 55 (property)\n",
    "* Country: Brazil (property)\n",
    "* Sold: Wallets (behavior)\n",
    "\n",
    "\n",
    "\n"
   ]
  }
 ],
 "metadata": {
  "interpreter": {
   "hash": "916dbcbb3f70747c44a77c7bcd40155683ae19c65e1c03b4aa3499c5328201f1"
  },
  "kernelspec": {
   "display_name": "Python 3.8.10 64-bit",
   "language": "python",
   "name": "python3"
  },
  "language_info": {
   "codemirror_mode": {
    "name": "ipython",
    "version": 3
   },
   "file_extension": ".py",
   "mimetype": "text/x-python",
   "name": "python",
   "nbconvert_exporter": "python",
   "pygments_lexer": "ipython3",
   "version": "3.8.10"
  },
  "orig_nbformat": 4
 },
 "nbformat": 4,
 "nbformat_minor": 2
}
